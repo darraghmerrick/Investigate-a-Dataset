{
 "cells": [
  {
   "attachments": {
    "TMDb.png": {
     "image/png": "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"
    }
   },
   "cell_type": "markdown",
   "metadata": {},
   "source": [
    "\n",
    "![TMDb.png](attachment:TMDb.png)\n",
    "\n",
    "# Project: Investigate the TMDb Movie Dataset \n",
    "\n",
    "## Table of Contents\n",
    "<ul>\n",
    "<li><a href=\"#intro\">Introduction</a></li>\n",
    "<li><a href=\"#wrangling\">Data Wrangling</a></li>\n",
    "<li><a href=\"#eda\">Exploratory Data Analysis</a></li>\n",
    "<li><a href=\"#conclusions\">Conclusions</a></li>\n",
    "</ul>"
   ]
  },
  {
   "cell_type": "markdown",
   "metadata": {},
   "source": [
    "<a id='Introduction'></a>\n",
    "# Introduction\n",
    "\n",
    "This dataset contains information about 10,000 movies collected from The Movie Database (TMDb). TMDb is a community-built movie and TV database, where data has been provided by the internet community dating back to 2008. This report will analyze the movie data for trends and answer questions like:\n",
    "* Which genres are most prevalent from year to year?\n",
    "* What kinds of properties are associated with movies that have high revenues?\n",
    "* Which directors and actors are associated with high ratings?\n",
    "* Which Production companies have made the highest profit?\n",
    "\n",
    "\n",
    "The dependent variable is \"dependent\" on the independent variable. As the experimenter changes the independent variable, the change in the dependent variable is observed and recorded. When you take data in an experiment, the dependent variable is the one being measured. "
   ]
  },
  {
   "cell_type": "markdown",
   "metadata": {},
   "source": [
    "<a id=' Data Wrangling.'></a>\n",
    "# Data Wrangling\n",
    "\n",
    "In this section of the report:\n",
    "* Load in the data\n",
    "* Check for cleanliness,\n",
    "* Trim and clean your dataset for analysis. \n"
   ]
  },
  {
   "cell_type": "code",
<<<<<<< HEAD
   "execution_count": 1,
=======
   "execution_count": 485,
>>>>>>> 96a4076f376282626b6ff38b6be0a7b8caffabe0
   "metadata": {},
   "outputs": [
    {
     "data": {
      "text/html": [
       "<div>\n",
       "<style scoped>\n",
       "    .dataframe tbody tr th:only-of-type {\n",
       "        vertical-align: middle;\n",
       "    }\n",
       "\n",
       "    .dataframe tbody tr th {\n",
       "        vertical-align: top;\n",
       "    }\n",
       "\n",
       "    .dataframe thead th {\n",
       "        text-align: right;\n",
       "    }\n",
       "</style>\n",
       "<table border=\"1\" class=\"dataframe\">\n",
       "  <thead>\n",
       "    <tr style=\"text-align: right;\">\n",
       "      <th></th>\n",
       "      <th>id</th>\n",
       "      <th>popularity</th>\n",
       "      <th>budget</th>\n",
       "      <th>revenue</th>\n",
       "      <th>runtime</th>\n",
       "      <th>vote_count</th>\n",
       "      <th>vote_average</th>\n",
       "      <th>release_year</th>\n",
       "      <th>budget_adj</th>\n",
       "      <th>revenue_adj</th>\n",
       "    </tr>\n",
       "  </thead>\n",
       "  <tbody>\n",
       "    <tr>\n",
       "      <th>count</th>\n",
       "      <td>10866.000000</td>\n",
       "      <td>10866.000000</td>\n",
       "      <td>1.086600e+04</td>\n",
       "      <td>1.086600e+04</td>\n",
       "      <td>10866.000000</td>\n",
       "      <td>10866.000000</td>\n",
       "      <td>10866.000000</td>\n",
       "      <td>10866.000000</td>\n",
       "      <td>1.086600e+04</td>\n",
       "      <td>1.086600e+04</td>\n",
       "    </tr>\n",
       "    <tr>\n",
       "      <th>mean</th>\n",
       "      <td>66064.177434</td>\n",
       "      <td>0.646441</td>\n",
       "      <td>1.462570e+07</td>\n",
       "      <td>3.982332e+07</td>\n",
       "      <td>102.070863</td>\n",
       "      <td>217.389748</td>\n",
       "      <td>5.974922</td>\n",
       "      <td>2001.322658</td>\n",
       "      <td>1.755104e+07</td>\n",
       "      <td>5.136436e+07</td>\n",
       "    </tr>\n",
       "    <tr>\n",
       "      <th>std</th>\n",
       "      <td>92130.136561</td>\n",
       "      <td>1.000185</td>\n",
       "      <td>3.091321e+07</td>\n",
       "      <td>1.170035e+08</td>\n",
       "      <td>31.381405</td>\n",
       "      <td>575.619058</td>\n",
       "      <td>0.935142</td>\n",
       "      <td>12.812941</td>\n",
       "      <td>3.430616e+07</td>\n",
       "      <td>1.446325e+08</td>\n",
       "    </tr>\n",
       "    <tr>\n",
       "      <th>min</th>\n",
       "      <td>5.000000</td>\n",
       "      <td>0.000065</td>\n",
       "      <td>0.000000e+00</td>\n",
       "      <td>0.000000e+00</td>\n",
       "      <td>0.000000</td>\n",
       "      <td>10.000000</td>\n",
       "      <td>1.500000</td>\n",
       "      <td>1960.000000</td>\n",
       "      <td>0.000000e+00</td>\n",
       "      <td>0.000000e+00</td>\n",
       "    </tr>\n",
       "    <tr>\n",
       "      <th>25%</th>\n",
       "      <td>10596.250000</td>\n",
       "      <td>0.207583</td>\n",
       "      <td>0.000000e+00</td>\n",
       "      <td>0.000000e+00</td>\n",
       "      <td>90.000000</td>\n",
       "      <td>17.000000</td>\n",
       "      <td>5.400000</td>\n",
       "      <td>1995.000000</td>\n",
       "      <td>0.000000e+00</td>\n",
       "      <td>0.000000e+00</td>\n",
       "    </tr>\n",
       "    <tr>\n",
       "      <th>50%</th>\n",
       "      <td>20669.000000</td>\n",
       "      <td>0.383856</td>\n",
       "      <td>0.000000e+00</td>\n",
       "      <td>0.000000e+00</td>\n",
       "      <td>99.000000</td>\n",
       "      <td>38.000000</td>\n",
       "      <td>6.000000</td>\n",
       "      <td>2006.000000</td>\n",
       "      <td>0.000000e+00</td>\n",
       "      <td>0.000000e+00</td>\n",
       "    </tr>\n",
       "    <tr>\n",
       "      <th>75%</th>\n",
       "      <td>75610.000000</td>\n",
       "      <td>0.713817</td>\n",
       "      <td>1.500000e+07</td>\n",
       "      <td>2.400000e+07</td>\n",
       "      <td>111.000000</td>\n",
       "      <td>145.750000</td>\n",
       "      <td>6.600000</td>\n",
       "      <td>2011.000000</td>\n",
       "      <td>2.085325e+07</td>\n",
       "      <td>3.369710e+07</td>\n",
       "    </tr>\n",
       "    <tr>\n",
       "      <th>max</th>\n",
       "      <td>417859.000000</td>\n",
       "      <td>32.985763</td>\n",
       "      <td>4.250000e+08</td>\n",
       "      <td>2.781506e+09</td>\n",
       "      <td>900.000000</td>\n",
       "      <td>9767.000000</td>\n",
       "      <td>9.200000</td>\n",
       "      <td>2015.000000</td>\n",
       "      <td>4.250000e+08</td>\n",
       "      <td>2.827124e+09</td>\n",
       "    </tr>\n",
       "  </tbody>\n",
       "</table>\n",
       "</div>"
      ],
      "text/plain": [
       "                  id    popularity        budget       revenue       runtime  \\\n",
       "count   10866.000000  10866.000000  1.086600e+04  1.086600e+04  10866.000000   \n",
       "mean    66064.177434      0.646441  1.462570e+07  3.982332e+07    102.070863   \n",
       "std     92130.136561      1.000185  3.091321e+07  1.170035e+08     31.381405   \n",
       "min         5.000000      0.000065  0.000000e+00  0.000000e+00      0.000000   \n",
       "25%     10596.250000      0.207583  0.000000e+00  0.000000e+00     90.000000   \n",
       "50%     20669.000000      0.383856  0.000000e+00  0.000000e+00     99.000000   \n",
       "75%     75610.000000      0.713817  1.500000e+07  2.400000e+07    111.000000   \n",
       "max    417859.000000     32.985763  4.250000e+08  2.781506e+09    900.000000   \n",
       "\n",
       "         vote_count  vote_average  release_year    budget_adj   revenue_adj  \n",
       "count  10866.000000  10866.000000  10866.000000  1.086600e+04  1.086600e+04  \n",
       "mean     217.389748      5.974922   2001.322658  1.755104e+07  5.136436e+07  \n",
       "std      575.619058      0.935142     12.812941  3.430616e+07  1.446325e+08  \n",
       "min       10.000000      1.500000   1960.000000  0.000000e+00  0.000000e+00  \n",
       "25%       17.000000      5.400000   1995.000000  0.000000e+00  0.000000e+00  \n",
       "50%       38.000000      6.000000   2006.000000  0.000000e+00  0.000000e+00  \n",
       "75%      145.750000      6.600000   2011.000000  2.085325e+07  3.369710e+07  \n",
       "max     9767.000000      9.200000   2015.000000  4.250000e+08  2.827124e+09  "
      ]
     },
<<<<<<< HEAD
     "execution_count": 1,
=======
     "execution_count": 485,
>>>>>>> 96a4076f376282626b6ff38b6be0a7b8caffabe0
     "metadata": {},
     "output_type": "execute_result"
    }
   ],
   "source": [
    "#Load and Clean the data\n",
    "\n",
    "import numpy as np\n",
    "import pandas as pd\n",
    "import matplotlib.pyplot as plt\n",
    "%matplotlib inline\n",
    "import seaborn as sns\n",
    "sns.set_style('darkgrid')\n",
    "# reading the movie dataframe\n",
    "df = pd.read_csv('tmdb-movies.csv')\n",
    "# look at the data\n",
    "df.describe()"
   ]
  },
  {
   "cell_type": "code",
<<<<<<< HEAD
   "execution_count": 2,
=======
   "execution_count": 486,
>>>>>>> 96a4076f376282626b6ff38b6be0a7b8caffabe0
   "metadata": {},
   "outputs": [
    {
     "data": {
      "text/html": [
       "<div>\n",
       "<style scoped>\n",
       "    .dataframe tbody tr th:only-of-type {\n",
       "        vertical-align: middle;\n",
       "    }\n",
       "\n",
       "    .dataframe tbody tr th {\n",
       "        vertical-align: top;\n",
       "    }\n",
       "\n",
       "    .dataframe thead th {\n",
       "        text-align: right;\n",
       "    }\n",
       "</style>\n",
       "<table border=\"1\" class=\"dataframe\">\n",
       "  <thead>\n",
       "    <tr style=\"text-align: right;\">\n",
       "      <th></th>\n",
       "      <th>id</th>\n",
       "      <th>imdb_id</th>\n",
       "      <th>popularity</th>\n",
       "      <th>budget</th>\n",
       "      <th>revenue</th>\n",
       "      <th>original_title</th>\n",
       "      <th>cast</th>\n",
       "      <th>homepage</th>\n",
       "      <th>director</th>\n",
       "      <th>tagline</th>\n",
       "      <th>...</th>\n",
       "      <th>overview</th>\n",
       "      <th>runtime</th>\n",
       "      <th>genres</th>\n",
       "      <th>production_companies</th>\n",
       "      <th>release_date</th>\n",
       "      <th>vote_count</th>\n",
       "      <th>vote_average</th>\n",
       "      <th>release_year</th>\n",
       "      <th>budget_adj</th>\n",
       "      <th>revenue_adj</th>\n",
       "    </tr>\n",
       "  </thead>\n",
       "  <tbody>\n",
       "    <tr>\n",
       "      <th>0</th>\n",
       "      <td>135397</td>\n",
       "      <td>tt0369610</td>\n",
       "      <td>32.985763</td>\n",
       "      <td>150000000</td>\n",
       "      <td>1513528810</td>\n",
       "      <td>Jurassic World</td>\n",
       "      <td>Chris Pratt|Bryce Dallas Howard|Irrfan Khan|Vi...</td>\n",
       "      <td>http://www.jurassicworld.com/</td>\n",
       "      <td>Colin Trevorrow</td>\n",
       "      <td>The park is open.</td>\n",
       "      <td>...</td>\n",
       "      <td>Twenty-two years after the events of Jurassic ...</td>\n",
       "      <td>124</td>\n",
       "      <td>Action|Adventure|Science Fiction|Thriller</td>\n",
       "      <td>Universal Studios|Amblin Entertainment|Legenda...</td>\n",
       "      <td>6/9/15</td>\n",
       "      <td>5562</td>\n",
       "      <td>6.5</td>\n",
       "      <td>2015</td>\n",
       "      <td>1.379999e+08</td>\n",
       "      <td>1.392446e+09</td>\n",
       "    </tr>\n",
       "    <tr>\n",
       "      <th>1</th>\n",
       "      <td>76341</td>\n",
       "      <td>tt1392190</td>\n",
       "      <td>28.419936</td>\n",
       "      <td>150000000</td>\n",
       "      <td>378436354</td>\n",
       "      <td>Mad Max: Fury Road</td>\n",
       "      <td>Tom Hardy|Charlize Theron|Hugh Keays-Byrne|Nic...</td>\n",
       "      <td>http://www.madmaxmovie.com/</td>\n",
       "      <td>George Miller</td>\n",
       "      <td>What a Lovely Day.</td>\n",
       "      <td>...</td>\n",
       "      <td>An apocalyptic story set in the furthest reach...</td>\n",
       "      <td>120</td>\n",
       "      <td>Action|Adventure|Science Fiction|Thriller</td>\n",
       "      <td>Village Roadshow Pictures|Kennedy Miller Produ...</td>\n",
       "      <td>5/13/15</td>\n",
       "      <td>6185</td>\n",
       "      <td>7.1</td>\n",
       "      <td>2015</td>\n",
       "      <td>1.379999e+08</td>\n",
       "      <td>3.481613e+08</td>\n",
       "    </tr>\n",
       "    <tr>\n",
       "      <th>2</th>\n",
       "      <td>262500</td>\n",
       "      <td>tt2908446</td>\n",
       "      <td>13.112507</td>\n",
       "      <td>110000000</td>\n",
       "      <td>295238201</td>\n",
       "      <td>Insurgent</td>\n",
       "      <td>Shailene Woodley|Theo James|Kate Winslet|Ansel...</td>\n",
       "      <td>http://www.thedivergentseries.movie/#insurgent</td>\n",
       "      <td>Robert Schwentke</td>\n",
       "      <td>One Choice Can Destroy You</td>\n",
       "      <td>...</td>\n",
       "      <td>Beatrice Prior must confront her inner demons ...</td>\n",
       "      <td>119</td>\n",
       "      <td>Adventure|Science Fiction|Thriller</td>\n",
       "      <td>Summit Entertainment|Mandeville Films|Red Wago...</td>\n",
       "      <td>3/18/15</td>\n",
       "      <td>2480</td>\n",
       "      <td>6.3</td>\n",
       "      <td>2015</td>\n",
       "      <td>1.012000e+08</td>\n",
       "      <td>2.716190e+08</td>\n",
       "    </tr>\n",
       "    <tr>\n",
       "      <th>3</th>\n",
       "      <td>140607</td>\n",
       "      <td>tt2488496</td>\n",
       "      <td>11.173104</td>\n",
       "      <td>200000000</td>\n",
       "      <td>2068178225</td>\n",
       "      <td>Star Wars: The Force Awakens</td>\n",
       "      <td>Harrison Ford|Mark Hamill|Carrie Fisher|Adam D...</td>\n",
       "      <td>http://www.starwars.com/films/star-wars-episod...</td>\n",
       "      <td>J.J. Abrams</td>\n",
       "      <td>Every generation has a story.</td>\n",
       "      <td>...</td>\n",
       "      <td>Thirty years after defeating the Galactic Empi...</td>\n",
       "      <td>136</td>\n",
       "      <td>Action|Adventure|Science Fiction|Fantasy</td>\n",
       "      <td>Lucasfilm|Truenorth Productions|Bad Robot</td>\n",
       "      <td>12/15/15</td>\n",
       "      <td>5292</td>\n",
       "      <td>7.5</td>\n",
       "      <td>2015</td>\n",
       "      <td>1.839999e+08</td>\n",
       "      <td>1.902723e+09</td>\n",
       "    </tr>\n",
       "    <tr>\n",
       "      <th>4</th>\n",
       "      <td>168259</td>\n",
       "      <td>tt2820852</td>\n",
       "      <td>9.335014</td>\n",
       "      <td>190000000</td>\n",
       "      <td>1506249360</td>\n",
       "      <td>Furious 7</td>\n",
       "      <td>Vin Diesel|Paul Walker|Jason Statham|Michelle ...</td>\n",
       "      <td>http://www.furious7.com/</td>\n",
       "      <td>James Wan</td>\n",
       "      <td>Vengeance Hits Home</td>\n",
       "      <td>...</td>\n",
       "      <td>Deckard Shaw seeks revenge against Dominic Tor...</td>\n",
       "      <td>137</td>\n",
       "      <td>Action|Crime|Thriller</td>\n",
       "      <td>Universal Pictures|Original Film|Media Rights ...</td>\n",
       "      <td>4/1/15</td>\n",
       "      <td>2947</td>\n",
       "      <td>7.3</td>\n",
       "      <td>2015</td>\n",
       "      <td>1.747999e+08</td>\n",
       "      <td>1.385749e+09</td>\n",
       "    </tr>\n",
       "  </tbody>\n",
       "</table>\n",
       "<p>5 rows × 21 columns</p>\n",
       "</div>"
      ],
      "text/plain": [
       "       id    imdb_id  popularity     budget     revenue  \\\n",
       "0  135397  tt0369610   32.985763  150000000  1513528810   \n",
       "1   76341  tt1392190   28.419936  150000000   378436354   \n",
       "2  262500  tt2908446   13.112507  110000000   295238201   \n",
       "3  140607  tt2488496   11.173104  200000000  2068178225   \n",
       "4  168259  tt2820852    9.335014  190000000  1506249360   \n",
       "\n",
       "                 original_title  \\\n",
       "0                Jurassic World   \n",
       "1            Mad Max: Fury Road   \n",
       "2                     Insurgent   \n",
       "3  Star Wars: The Force Awakens   \n",
       "4                     Furious 7   \n",
       "\n",
       "                                                cast  \\\n",
       "0  Chris Pratt|Bryce Dallas Howard|Irrfan Khan|Vi...   \n",
       "1  Tom Hardy|Charlize Theron|Hugh Keays-Byrne|Nic...   \n",
       "2  Shailene Woodley|Theo James|Kate Winslet|Ansel...   \n",
       "3  Harrison Ford|Mark Hamill|Carrie Fisher|Adam D...   \n",
       "4  Vin Diesel|Paul Walker|Jason Statham|Michelle ...   \n",
       "\n",
       "                                            homepage          director  \\\n",
       "0                      http://www.jurassicworld.com/   Colin Trevorrow   \n",
       "1                        http://www.madmaxmovie.com/     George Miller   \n",
       "2     http://www.thedivergentseries.movie/#insurgent  Robert Schwentke   \n",
       "3  http://www.starwars.com/films/star-wars-episod...       J.J. Abrams   \n",
       "4                           http://www.furious7.com/         James Wan   \n",
       "\n",
       "                         tagline  ...  \\\n",
       "0              The park is open.  ...   \n",
       "1             What a Lovely Day.  ...   \n",
       "2     One Choice Can Destroy You  ...   \n",
       "3  Every generation has a story.  ...   \n",
       "4            Vengeance Hits Home  ...   \n",
       "\n",
       "                                            overview runtime  \\\n",
       "0  Twenty-two years after the events of Jurassic ...     124   \n",
       "1  An apocalyptic story set in the furthest reach...     120   \n",
       "2  Beatrice Prior must confront her inner demons ...     119   \n",
       "3  Thirty years after defeating the Galactic Empi...     136   \n",
       "4  Deckard Shaw seeks revenge against Dominic Tor...     137   \n",
       "\n",
       "                                      genres  \\\n",
       "0  Action|Adventure|Science Fiction|Thriller   \n",
       "1  Action|Adventure|Science Fiction|Thriller   \n",
       "2         Adventure|Science Fiction|Thriller   \n",
       "3   Action|Adventure|Science Fiction|Fantasy   \n",
       "4                      Action|Crime|Thriller   \n",
       "\n",
       "                                production_companies release_date vote_count  \\\n",
       "0  Universal Studios|Amblin Entertainment|Legenda...       6/9/15       5562   \n",
       "1  Village Roadshow Pictures|Kennedy Miller Produ...      5/13/15       6185   \n",
       "2  Summit Entertainment|Mandeville Films|Red Wago...      3/18/15       2480   \n",
       "3          Lucasfilm|Truenorth Productions|Bad Robot     12/15/15       5292   \n",
       "4  Universal Pictures|Original Film|Media Rights ...       4/1/15       2947   \n",
       "\n",
       "   vote_average  release_year    budget_adj   revenue_adj  \n",
       "0           6.5          2015  1.379999e+08  1.392446e+09  \n",
       "1           7.1          2015  1.379999e+08  3.481613e+08  \n",
       "2           6.3          2015  1.012000e+08  2.716190e+08  \n",
       "3           7.5          2015  1.839999e+08  1.902723e+09  \n",
       "4           7.3          2015  1.747999e+08  1.385749e+09  \n",
       "\n",
       "[5 rows x 21 columns]"
      ]
     },
<<<<<<< HEAD
     "execution_count": 2,
=======
     "execution_count": 486,
>>>>>>> 96a4076f376282626b6ff38b6be0a7b8caffabe0
     "metadata": {},
     "output_type": "execute_result"
    }
   ],
   "source": [
    "# prints out first lines to inspect data  \n",
    "df.head()"
   ]
  },
  {
   "cell_type": "code",
<<<<<<< HEAD
   "execution_count": 3,
=======
   "execution_count": 487,
>>>>>>> 96a4076f376282626b6ff38b6be0a7b8caffabe0
   "metadata": {},
   "outputs": [
    {
     "name": "stdout",
     "output_type": "stream",
     "text": [
      "count 46\n"
     ]
    }
   ],
   "source": [
    "\n",
    "df1 = df[['release_year','genres']]\n",
    "#print(df1)\n",
    "df2 = df1.query('release_year==1966')\n",
    "count = df2.count()\n",
    "print('count',count[0])\n",
    "\n",
    "#print(df2)"
   ]
  },
  {
   "cell_type": "code",
<<<<<<< HEAD
   "execution_count": 4,
=======
   "execution_count": 488,
>>>>>>> 96a4076f376282626b6ff38b6be0a7b8caffabe0
   "metadata": {},
   "outputs": [
    {
     "name": "stdout",
     "output_type": "stream",
     "text": [
      "<class 'pandas.core.frame.DataFrame'>\n",
      "RangeIndex: 10866 entries, 0 to 10865\n",
      "Data columns (total 21 columns):\n",
      " #   Column                Non-Null Count  Dtype  \n",
      "---  ------                --------------  -----  \n",
      " 0   id                    10866 non-null  int64  \n",
      " 1   imdb_id               10856 non-null  object \n",
      " 2   popularity            10866 non-null  float64\n",
      " 3   budget                10866 non-null  int64  \n",
      " 4   revenue               10866 non-null  int64  \n",
      " 5   original_title        10866 non-null  object \n",
      " 6   cast                  10790 non-null  object \n",
      " 7   homepage              2936 non-null   object \n",
      " 8   director              10822 non-null  object \n",
      " 9   tagline               8042 non-null   object \n",
      " 10  keywords              9373 non-null   object \n",
      " 11  overview              10862 non-null  object \n",
      " 12  runtime               10866 non-null  int64  \n",
      " 13  genres                10843 non-null  object \n",
      " 14  production_companies  9836 non-null   object \n",
      " 15  release_date          10866 non-null  object \n",
      " 16  vote_count            10866 non-null  int64  \n",
      " 17  vote_average          10866 non-null  float64\n",
      " 18  release_year          10866 non-null  int64  \n",
      " 19  budget_adj            10866 non-null  float64\n",
      " 20  revenue_adj           10866 non-null  float64\n",
      "dtypes: float64(4), int64(6), object(11)\n",
      "memory usage: 1.7+ MB\n"
     ]
    }
   ],
   "source": [
    "#Examine info about the data types in each column\n",
    "df.info()"
   ]
  },
  {
   "cell_type": "code",
<<<<<<< HEAD
   "execution_count": 5,
=======
   "execution_count": 489,
>>>>>>> 96a4076f376282626b6ff38b6be0a7b8caffabe0
   "metadata": {},
   "outputs": [
    {
     "data": {
      "text/plain": [
       "(10866, 21)"
      ]
     },
<<<<<<< HEAD
     "execution_count": 5,
=======
     "execution_count": 489,
>>>>>>> 96a4076f376282626b6ff38b6be0a7b8caffabe0
     "metadata": {},
     "output_type": "execute_result"
    }
   ],
   "source": [
    "# this returns a tuple of the dimensions of the dataframe\n",
    "df.shape"
   ]
  },
  {
   "cell_type": "code",
<<<<<<< HEAD
   "execution_count": 6,
=======
   "execution_count": 490,
>>>>>>> 96a4076f376282626b6ff38b6be0a7b8caffabe0
   "metadata": {},
   "outputs": [
    {
     "data": {
      "text/plain": [
       "id                         0\n",
       "imdb_id                    0\n",
       "popularity                 0\n",
       "budget                  5696\n",
       "revenue                 6016\n",
       "original_title             0\n",
       "cast                       0\n",
       "homepage                   0\n",
       "director                   0\n",
       "tagline                    0\n",
       "keywords                   0\n",
       "overview                   0\n",
       "runtime                   31\n",
       "genres                     0\n",
       "production_companies       0\n",
       "release_date               0\n",
       "vote_count                 0\n",
       "vote_average               0\n",
       "release_year               0\n",
       "budget_adj              5696\n",
       "revenue_adj             6016\n",
       "dtype: int64"
      ]
     },
<<<<<<< HEAD
     "execution_count": 6,
=======
     "execution_count": 490,
>>>>>>> 96a4076f376282626b6ff38b6be0a7b8caffabe0
     "metadata": {},
     "output_type": "execute_result"
    }
   ],
   "source": [
    "#Check Columns for 0 values\n",
    "df.isin([0]).sum()"
   ]
  },
  {
   "cell_type": "code",
<<<<<<< HEAD
   "execution_count": 7,
=======
   "execution_count": 491,
>>>>>>> 96a4076f376282626b6ff38b6be0a7b8caffabe0
   "metadata": {},
   "outputs": [
    {
     "data": {
      "text/plain": [
       "id                      10865\n",
       "imdb_id                 10855\n",
       "popularity              10814\n",
       "budget                    557\n",
       "revenue                  4702\n",
       "original_title          10571\n",
       "cast                    10719\n",
       "homepage                 2896\n",
       "director                 5067\n",
       "tagline                  7997\n",
       "keywords                 8804\n",
       "overview                10847\n",
       "runtime                   247\n",
       "genres                   2039\n",
       "production_companies     7445\n",
       "release_date             5909\n",
       "vote_count               1289\n",
       "vote_average               72\n",
       "release_year               56\n",
       "budget_adj               2614\n",
       "revenue_adj              4840\n",
       "dtype: int64"
      ]
     },
<<<<<<< HEAD
     "execution_count": 7,
=======
     "execution_count": 491,
>>>>>>> 96a4076f376282626b6ff38b6be0a7b8caffabe0
     "metadata": {},
     "output_type": "execute_result"
    }
   ],
   "source": [
    "# this returns the number of unique values in each column\n",
    "df.nunique()"
   ]
  },
  {
   "cell_type": "code",
<<<<<<< HEAD
   "execution_count": 8,
=======
   "execution_count": 492,
>>>>>>> 96a4076f376282626b6ff38b6be0a7b8caffabe0
   "metadata": {},
   "outputs": [
    {
     "data": {
      "text/plain": [
       "1"
      ]
     },
<<<<<<< HEAD
     "execution_count": 8,
=======
     "execution_count": 492,
>>>>>>> 96a4076f376282626b6ff38b6be0a7b8caffabe0
     "metadata": {},
     "output_type": "execute_result"
    }
   ],
   "source": [
    "# check for duplicates in the data\n",
    "sum(df.duplicated())"
   ]
  },
  {
   "cell_type": "markdown",
   "metadata": {},
   "source": [
    "<a id=' Cleaning Decisions based on Data Wrangling.'></a>\n",
    "# Cleaning Decisions based on Data Wrangling\n",
    "\n",
    "* Drop duplicates rows.\n",
    "* Drop irrelevant columns;\n",
    "    * homepage\n",
    "    * imdb_id \n",
    "    * tagline \n",
    "    * overview\n",
    "    * budget_adj\n",
    "    * revenue_adj\n",
    "* Drop the null values columns where numbers are low; \n",
    "    * cast\n",
    "    * director\n",
    "    * genres\n",
    "* To preserve data integrity, do not drop the columns where null values are high, to avoid dropping too much data. \n",
    "* Replace zero values with mean for the high zero value columns;\n",
    "    * budget \n",
    "    * revenue\n",
    "* Drop the zero values columns where numbers are low; \n",
    "    * runtime."
   ]
  },
  {
   "cell_type": "markdown",
   "metadata": {},
   "source": [
    "<a id=' Data Cleaning.'></a>\n",
    "# Data Cleaning"
   ]
  },
  {
   "cell_type": "code",
<<<<<<< HEAD
   "execution_count": 9,
=======
   "execution_count": 493,
>>>>>>> 96a4076f376282626b6ff38b6be0a7b8caffabe0
   "metadata": {},
   "outputs": [],
   "source": [
    "# budgets of zero must be missing values\n",
    "df_clean=df.query('budget>0').copy()"
   ]
  },
  {
   "cell_type": "code",
<<<<<<< HEAD
   "execution_count": 10,
=======
   "execution_count": 494,
>>>>>>> 96a4076f376282626b6ff38b6be0a7b8caffabe0
   "metadata": {},
   "outputs": [
    {
     "data": {
      "text/plain": [
       "id                         0\n",
       "imdb_id                    0\n",
       "popularity                 0\n",
       "budget                     0\n",
       "revenue                 1315\n",
       "original_title             0\n",
       "cast                       0\n",
       "homepage                   0\n",
       "director                   0\n",
       "tagline                    0\n",
       "keywords                   0\n",
       "overview                   0\n",
       "runtime                    3\n",
       "genres                     0\n",
       "production_companies       0\n",
       "release_date               0\n",
       "vote_count                 0\n",
       "vote_average               0\n",
       "release_year               0\n",
       "budget_adj                 0\n",
       "revenue_adj             1315\n",
       "dtype: int64"
      ]
     },
<<<<<<< HEAD
     "execution_count": 10,
=======
     "execution_count": 494,
>>>>>>> 96a4076f376282626b6ff38b6be0a7b8caffabe0
     "metadata": {},
     "output_type": "execute_result"
    }
   ],
   "source": [
    "#Check Columns for 0 values\n",
    "df_clean.isin([0]).sum()"
   ]
  },
  {
   "cell_type": "code",
<<<<<<< HEAD
   "execution_count": 11,
=======
   "execution_count": 495,
>>>>>>> 96a4076f376282626b6ff38b6be0a7b8caffabe0
   "metadata": {},
   "outputs": [],
   "source": [
    "# After discussing the structure of the data and any problems that need to be\n",
    "#   cleaned, perform those cleaning steps in the second part of this section.\n",
    "# Drop columns with no value\n",
    "\n",
    "df.drop(df.columns[[1, 7, 9, 11, 19, 20]], axis = 1, inplace = True)"
   ]
  },
  {
   "cell_type": "code",
<<<<<<< HEAD
   "execution_count": 12,
=======
   "execution_count": 496,
>>>>>>> 96a4076f376282626b6ff38b6be0a7b8caffabe0
   "metadata": {},
   "outputs": [
    {
     "data": {
      "text/html": [
       "<div>\n",
       "<style scoped>\n",
       "    .dataframe tbody tr th:only-of-type {\n",
       "        vertical-align: middle;\n",
       "    }\n",
       "\n",
       "    .dataframe tbody tr th {\n",
       "        vertical-align: top;\n",
       "    }\n",
       "\n",
       "    .dataframe thead th {\n",
       "        text-align: right;\n",
       "    }\n",
       "</style>\n",
       "<table border=\"1\" class=\"dataframe\">\n",
       "  <thead>\n",
       "    <tr style=\"text-align: right;\">\n",
       "      <th></th>\n",
       "      <th>id</th>\n",
       "      <th>popularity</th>\n",
       "      <th>budget</th>\n",
       "      <th>revenue</th>\n",
       "      <th>original_title</th>\n",
       "      <th>cast</th>\n",
       "      <th>director</th>\n",
       "      <th>keywords</th>\n",
       "      <th>runtime</th>\n",
       "      <th>genres</th>\n",
       "      <th>production_companies</th>\n",
       "      <th>release_date</th>\n",
       "      <th>vote_count</th>\n",
       "      <th>vote_average</th>\n",
       "      <th>release_year</th>\n",
       "    </tr>\n",
       "  </thead>\n",
       "  <tbody>\n",
       "    <tr>\n",
       "      <th>0</th>\n",
       "      <td>135397</td>\n",
       "      <td>32.985763</td>\n",
       "      <td>150000000</td>\n",
       "      <td>1513528810</td>\n",
       "      <td>Jurassic World</td>\n",
       "      <td>Chris Pratt|Bryce Dallas Howard|Irrfan Khan|Vi...</td>\n",
       "      <td>Colin Trevorrow</td>\n",
       "      <td>monster|dna|tyrannosaurus rex|velociraptor|island</td>\n",
       "      <td>124</td>\n",
       "      <td>Action|Adventure|Science Fiction|Thriller</td>\n",
       "      <td>Universal Studios|Amblin Entertainment|Legenda...</td>\n",
       "      <td>6/9/15</td>\n",
       "      <td>5562</td>\n",
       "      <td>6.5</td>\n",
       "      <td>2015</td>\n",
       "    </tr>\n",
       "  </tbody>\n",
       "</table>\n",
       "</div>"
      ],
      "text/plain": [
       "       id  popularity     budget     revenue  original_title  \\\n",
       "0  135397   32.985763  150000000  1513528810  Jurassic World   \n",
       "\n",
       "                                                cast         director  \\\n",
       "0  Chris Pratt|Bryce Dallas Howard|Irrfan Khan|Vi...  Colin Trevorrow   \n",
       "\n",
       "                                            keywords  runtime  \\\n",
       "0  monster|dna|tyrannosaurus rex|velociraptor|island      124   \n",
       "\n",
       "                                      genres  \\\n",
       "0  Action|Adventure|Science Fiction|Thriller   \n",
       "\n",
       "                                production_companies release_date  vote_count  \\\n",
       "0  Universal Studios|Amblin Entertainment|Legenda...       6/9/15        5562   \n",
       "\n",
       "   vote_average  release_year  \n",
       "0           6.5          2015  "
      ]
     },
<<<<<<< HEAD
     "execution_count": 12,
=======
     "execution_count": 496,
>>>>>>> 96a4076f376282626b6ff38b6be0a7b8caffabe0
     "metadata": {},
     "output_type": "execute_result"
    }
   ],
   "source": [
    "# Verify the columns are dropped.\n",
    "df.head(1)"
   ]
  },
  {
   "cell_type": "code",
<<<<<<< HEAD
   "execution_count": 13,
=======
   "execution_count": 497,
>>>>>>> 96a4076f376282626b6ff38b6be0a7b8caffabe0
   "metadata": {},
   "outputs": [],
   "source": [
    "#drop the null values with low occurance \n",
    "nullVals = ['cast', 'director', 'genres']\n",
    "df.dropna(subset = nullVals, how='any', inplace=True)"
   ]
  },
  {
   "cell_type": "code",
<<<<<<< HEAD
   "execution_count": 14,
=======
   "execution_count": 498,
>>>>>>> 96a4076f376282626b6ff38b6be0a7b8caffabe0
   "metadata": {},
   "outputs": [
    {
     "data": {
      "text/plain": [
       "id                         0\n",
       "popularity                 0\n",
       "budget                     0\n",
       "revenue                    0\n",
       "original_title             0\n",
       "cast                       0\n",
       "director                   0\n",
       "keywords                1425\n",
       "runtime                    0\n",
       "genres                     0\n",
       "production_companies     959\n",
       "release_date               0\n",
       "vote_count                 0\n",
       "vote_average               0\n",
       "release_year               0\n",
       "dtype: int64"
      ]
     },
<<<<<<< HEAD
     "execution_count": 14,
=======
     "execution_count": 498,
>>>>>>> 96a4076f376282626b6ff38b6be0a7b8caffabe0
     "metadata": {},
     "output_type": "execute_result"
    }
   ],
   "source": [
    "# verify null values have been dropped.\n",
    "df.isnull().sum()"
   ]
  },
  {
   "cell_type": "markdown",
   "metadata": {},
   "source": [
    "<a id=' Exploratory Data Analysis.'></a>\n",
    "# Exploratory Data Analysis"
   ]
  },
  {
   "cell_type": "markdown",
   "metadata": {},
   "source": [
    "<a id='  Question 1: Trend of movies released over the dataset time period.'></a>\n",
    "## Question 1: Trend of movies released over the dataset time period"
   ]
  },
  {
   "cell_type": "code",
<<<<<<< HEAD
   "execution_count": 15,
=======
   "execution_count": 499,
>>>>>>> 96a4076f376282626b6ff38b6be0a7b8caffabe0
   "metadata": {},
   "outputs": [
    {
     "data": {
      "text/plain": [
       "release_year\n",
       "1960    32\n",
       "1961    31\n",
       "1962    32\n",
       "1963    34\n",
       "1964    42\n",
       "Name: id, dtype: int64"
      ]
     },
<<<<<<< HEAD
     "execution_count": 15,
=======
     "execution_count": 499,
>>>>>>> 96a4076f376282626b6ff38b6be0a7b8caffabe0
     "metadata": {},
     "output_type": "execute_result"
    }
   ],
   "source": [
    "movies_count = df.groupby('release_year').count()['id']\n",
    "movies_count.head()"
   ]
  },
  {
   "cell_type": "code",
<<<<<<< HEAD
   "execution_count": 16,
=======
   "execution_count": 500,
>>>>>>> 96a4076f376282626b6ff38b6be0a7b8caffabe0
   "metadata": {},
   "outputs": [
    {
     "data": {
<<<<<<< HEAD
      "image/png": "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\n",
=======
      "image/png": "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",
>>>>>>> 96a4076f376282626b6ff38b6be0a7b8caffabe0
      "text/plain": [
       "<Figure size 720x360 with 1 Axes>"
      ]
     },
     "metadata": {},
     "output_type": "display_data"
    }
   ],
   "source": [
    "#set style\n",
    "sns.set_style('darkgrid')\n",
    "#set x, y axis data\n",
    "# x is movie release year\n",
    "x = movies_count.index\n",
    "# y is number of movie released\n",
    "y = movies_count\n",
    "#set size\n",
    "plt.figure(figsize=(10, 5))\n",
    "#plot line chart \n",
    "plt.plot(x, y, color = 'g', label = 'mean')\n",
    "#set title and labels\n",
    "plt.title('Number of Movie Released by year')\n",
    "plt.xlabel('Year')\n",
    "plt.ylabel('Number of Movie Released');"
   ]
  },
  {
   "cell_type": "markdown",
   "metadata": {},
   "source": [
    "<a id=' Question 2: Popular Trends by Generation.'></a>\n",
    "# Question 2: Popular Trends by Generation"
   ]
  },
  {
   "cell_type": "code",
<<<<<<< HEAD
   "execution_count": 17,
=======
   "execution_count": 501,
>>>>>>> 96a4076f376282626b6ff38b6be0a7b8caffabe0
   "metadata": {},
   "outputs": [
    {
     "data": {
      "text/plain": [
       "array([1960, 1961, 1962, 1963, 1964, 1965, 1966, 1967, 1968, 1969, 1970,\n",
       "       1971, 1972, 1973, 1974, 1975, 1976, 1977, 1978, 1979, 1980, 1981,\n",
       "       1982, 1983, 1984, 1985, 1986, 1987, 1988, 1989, 1990, 1991, 1992,\n",
       "       1993, 1994, 1995, 1996, 1997, 1998, 1999, 2000, 2001, 2002, 2003,\n",
       "       2004, 2005, 2006, 2007, 2008, 2009, 2010, 2011, 2012, 2013, 2014,\n",
       "       2015])"
      ]
     },
<<<<<<< HEAD
     "execution_count": 17,
=======
     "execution_count": 501,
>>>>>>> 96a4076f376282626b6ff38b6be0a7b8caffabe0
     "metadata": {},
     "output_type": "execute_result"
    }
   ],
   "source": [
    "# sort the movies by release year.\n",
    "release_year= df.release_year.unique()\n",
    "release_year= np.sort(release_year)\n",
    "release_year"
   ]
  },
  {
   "cell_type": "code",
   "execution_count": null,
   "metadata": {},
   "outputs": [],
   "source": []
  },
  {
   "cell_type": "code",
<<<<<<< HEAD
   "execution_count": 18,
=======
   "execution_count": 502,
>>>>>>> 96a4076f376282626b6ff38b6be0a7b8caffabe0
   "metadata": {},
   "outputs": [],
   "source": [
    "# Segment the years into decades.\n",
    "# 1960s\n",
    "decade1960s =release_year[:10]\n",
    "# 1970s\n",
    "decade1970s =release_year[10:20]\n",
    "# 1980s\n",
    "decade1980s =release_year[20:30]\n",
    "# 1990s\n",
    "decade1990s = release_year[30:40]\n",
    "# 2000s\n",
    "decade2000 = release_year[40:]"
   ]
  },
  {
   "cell_type": "code",
<<<<<<< HEAD
   "execution_count": 19,
=======
   "execution_count": 503,
>>>>>>> 96a4076f376282626b6ff38b6be0a7b8caffabe0
   "metadata": {},
   "outputs": [
    {
     "data": {
      "text/plain": [
       "id                         0\n",
       "popularity                 0\n",
       "budget                     0\n",
       "revenue                    0\n",
       "original_title             0\n",
       "cast                       0\n",
       "director                   0\n",
       "keywords                1425\n",
       "runtime                    0\n",
       "genres                     0\n",
       "production_companies     959\n",
       "release_date               0\n",
       "vote_count                 0\n",
       "vote_average               0\n",
       "release_year               0\n",
       "dtype: int64"
      ]
     },
<<<<<<< HEAD
     "execution_count": 19,
=======
     "execution_count": 503,
>>>>>>> 96a4076f376282626b6ff38b6be0a7b8caffabe0
     "metadata": {},
     "output_type": "execute_result"
    }
   ],
   "source": [
    "df_clean['budget'] = df_clean['budget'].fillna(df_clean['budget'].mean())\n",
    "df.isnull().sum()"
   ]
  },
  {
   "cell_type": "markdown",
   "metadata": {},
   "source": [
    "<a id='Function to Calculate top values.'></a>\n",
    "# Function to Calculate top values"
   ]
  },
  {
   "cell_type": "code",
<<<<<<< HEAD
   "execution_count": 20,
=======
   "execution_count": 504,
>>>>>>> 96a4076f376282626b6ff38b6be0a7b8caffabe0
   "metadata": {},
   "outputs": [],
   "source": [
    "# split string by pipe & count number of occurences\n",
    "#argument:dataframe_col is the target dataframe & column; num is the number of the top factor\n",
    "def find_top(dataframe_col, num=1):\n",
    "    # split the characters in the input column & make it a list\n",
    "    sep_col = dataframe_col.str.cat(sep='|').split('|')\n",
    "    #save it to a dataframe\n",
    "    new = pd.DataFrame({'top' :sep_col})\n",
    "    #count their number of appeared times\n",
    "    top = new['top'].value_counts().head(num)\n",
    "    return top"
   ]
  },
  {
   "cell_type": "markdown",
   "metadata": {},
   "source": [
    "<a id='Calculate Top Keywords by Decade.'></a>\n",
    "# Calculate Top Keywords by Decade"
   ]
  },
  {
   "cell_type": "code",
   "execution_count": 505,
   "metadata": {},
   "outputs": [
    {
     "data": {
      "text/html": [
       "<div>\n",
       "<style scoped>\n",
       "    .dataframe tbody tr th:only-of-type {\n",
       "        vertical-align: middle;\n",
       "    }\n",
       "\n",
       "    .dataframe tbody tr th {\n",
       "        vertical-align: top;\n",
       "    }\n",
       "\n",
       "    .dataframe thead th {\n",
       "        text-align: right;\n",
       "    }\n",
       "</style>\n",
       "<table border=\"1\" class=\"dataframe\">\n",
       "  <thead>\n",
       "    <tr style=\"text-align: right;\">\n",
       "      <th></th>\n",
       "      <th>year</th>\n",
       "      <th>top</th>\n",
       "    </tr>\n",
       "  </thead>\n",
       "  <tbody>\n",
       "    <tr>\n",
       "      <th>based on novel</th>\n",
       "      <td>1960s</td>\n",
       "      <td>16</td>\n",
       "    </tr>\n",
       "    <tr>\n",
       "      <th>based on novel</th>\n",
       "      <td>1970s</td>\n",
       "      <td>23</td>\n",
       "    </tr>\n",
       "    <tr>\n",
       "      <th>nudity</th>\n",
       "      <td>1980s</td>\n",
       "      <td>39</td>\n",
       "    </tr>\n",
       "    <tr>\n",
       "      <th>independent film</th>\n",
       "      <td>1990s</td>\n",
       "      <td>80</td>\n",
       "    </tr>\n",
       "    <tr>\n",
       "      <th>woman director</th>\n",
       "      <td>after2000</td>\n",
       "      <td>350</td>\n",
       "    </tr>\n",
       "  </tbody>\n",
       "</table>\n",
       "</div>"
      ],
      "text/plain": [
       "                       year  top\n",
       "based on novel        1960s   16\n",
       "based on novel        1970s   23\n",
       "nudity                1980s   39\n",
       "independent film      1990s   80\n",
       "woman director    after2000  350"
      ]
     },
     "execution_count": 505,
     "metadata": {},
     "output_type": "execute_result"
    }
   ],
   "source": [
    "# List of Decades\n",
    "decades = [decade1960s, decade1970s, decade1980s, decade1990s, decade2000]\n",
    "#Decade names\n",
    "names = ['1960s', '1970s', '1980s', '1990s', 'after2000']\n",
    "#creat a empty dataframe.\n",
    "df_keywords = pd.DataFrame()\n",
    "index = 0\n",
    "#iterate years per decade\n",
    "for i in decades:\n",
    "    #Filter the data frame for each year\n",
    "    df_year = df[df.release_year.isin(i)] \n",
    "    #Use the find_top function to find the top keyword per year \n",
    "    df_year_top = pd.DataFrame({'year' :names[index],'top': find_top(df_year.keywords,1)})\n",
    "     #append dfn2 to df_q2\n",
    "    df_keywords = df_keywords.append(df_year_top)\n",
    "    index +=1\n",
    "df_keywords"
   ]
  },
  {
   "cell_type": "markdown",
   "metadata": {},
   "source": [
    "<a id='Visualise Top Genres by Decade.'></a>\n",
    "# Visualise Top Genres by Decade"
   ]
  },
  {
   "cell_type": "code",
   "execution_count": 506,
   "metadata": {},
   "outputs": [
    {
     "data": {
      "text/plain": [
       "Text(0.5, 1.0, 'Genres Popularity Trends by Generation')"
      ]
     },
     "execution_count": 506,
     "metadata": {},
     "output_type": "execute_result"
    },
    {
     "data": {
      "image/png": "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",
      "text/plain": [
       "<Figure size 432x288 with 2 Axes>"
      ]
     },
     "metadata": {},
     "output_type": "display_data"
    }
   ],
   "source": [
    "# Setting the positions\n",
    "generation = ['1960s', '1970s', '1980s', '1990s', 'after2000']\n",
    "genres = df_keywords.index\n",
    "y_pos = np.arange(len(generation))\n",
    "fig, ax = plt.subplots()\n",
    "# Setting y1: the genre number\n",
    "y1 = df_keywords.top\n",
    "# Setting y2 again to present the right-side y axis labels\n",
    "y2 = df_keywords.top\n",
    "#plot the bar\n",
    "ax.barh(y_pos,y1, color = '#ff8c1a')\n",
    "#set the left side y axis ticks position\n",
    "ax.set_yticks(y_pos)\n",
    "#set the left side y axis tick label\n",
    "ax.set_yticklabels(genres)\n",
    "#set left side y axis label\n",
    "ax.set_ylabel('genres')\n",
    "\n",
    "#create another axis to present the right-side y axis labels\n",
    "ax2 = ax.twinx()\n",
    "#plot the bar\n",
    "ax2.barh(y_pos,y2, color = '#ff8c1a')\n",
    "#set the right side y axis ticks position\n",
    "ax2.set_yticks(y_pos)\n",
    "#set the right side y axis tick label\n",
    "ax2.set_yticklabels(generation)\n",
    "#set right side y axis label\n",
    "ax2.set_ylabel('generation')\n",
    "#set title\n",
    "ax.set_title('Genres Popularity Trends by Generation')"
   ]
  },
  {
   "cell_type": "markdown",
   "metadata": {},
   "source": [
    "<a id='Calculate Top Cast by Decade.'></a>\n",
    "# Calculate Top Cast by Decade"
   ]
  },
  {
   "cell_type": "code",
   "execution_count": 507,
   "metadata": {},
   "outputs": [
    {
     "data": {
      "text/html": [
       "<div>\n",
       "<style scoped>\n",
       "    .dataframe tbody tr th:only-of-type {\n",
       "        vertical-align: middle;\n",
       "    }\n",
       "\n",
       "    .dataframe tbody tr th {\n",
       "        vertical-align: top;\n",
       "    }\n",
       "\n",
       "    .dataframe thead th {\n",
       "        text-align: right;\n",
       "    }\n",
       "</style>\n",
       "<table border=\"1\" class=\"dataframe\">\n",
       "  <thead>\n",
       "    <tr style=\"text-align: right;\">\n",
       "      <th></th>\n",
       "      <th>year</th>\n",
       "      <th>top</th>\n",
       "    </tr>\n",
       "  </thead>\n",
       "  <tbody>\n",
       "    <tr>\n",
       "      <th>John Wayne</th>\n",
       "      <td>1960s</td>\n",
       "      <td>13</td>\n",
       "    </tr>\n",
       "    <tr>\n",
       "      <th>Clint Eastwood</th>\n",
       "      <td>1970s</td>\n",
       "      <td>15</td>\n",
       "    </tr>\n",
       "    <tr>\n",
       "      <th>Dan Aykroyd</th>\n",
       "      <td>1980s</td>\n",
       "      <td>13</td>\n",
       "    </tr>\n",
       "    <tr>\n",
       "      <th>Bruce Willis</th>\n",
       "      <td>1990s</td>\n",
       "      <td>25</td>\n",
       "    </tr>\n",
       "    <tr>\n",
       "      <th>Samuel L. Jackson</th>\n",
       "      <td>after2000</td>\n",
       "      <td>49</td>\n",
       "    </tr>\n",
       "  </tbody>\n",
       "</table>\n",
       "</div>"
      ],
      "text/plain": [
       "                        year  top\n",
       "John Wayne             1960s   13\n",
       "Clint Eastwood         1970s   15\n",
       "Dan Aykroyd            1980s   13\n",
       "Bruce Willis           1990s   25\n",
       "Samuel L. Jackson  after2000   49"
      ]
     },
     "execution_count": 507,
     "metadata": {},
     "output_type": "execute_result"
    }
   ],
   "source": [
    "# List of Decades\n",
    "decades = [decade1960s, decade1970s, decade1980s, decade1990s, decade2000]\n",
    "#Decade names\n",
    "names = ['1960s', '1970s', '1980s', '1990s', 'after2000']\n",
    "#creat a empty dataframe.\n",
    "df_cast = pd.DataFrame()\n",
    "index = 0\n",
    "#iterate years per decade\n",
    "for i in decades:\n",
    "    #Filter the data frame for each year\n",
    "    df_year = df[df.release_year.isin(i)] \n",
    "    #Use the find_top function to find the top keyword per year \n",
    "    df_year_top = pd.DataFrame({'year' :names[index],'top': find_top(df_year.cast,1)})\n",
    "     #append dfn2 to df_q2\n",
    "    df_cast = df_cast.append(df_year_top)\n",
    "    index +=1\n",
    "df_cast"
   ]
  },
  {
   "cell_type": "markdown",
   "metadata": {},
   "source": [
    "<a id='Visualise Top Cast by Decade.'></a>\n",
    "# Visualise Top Cast by Decade"
   ]
  },
  {
   "cell_type": "code",
   "execution_count": 508,
   "metadata": {},
   "outputs": [
    {
     "data": {
      "text/plain": [
       "Text(0.5, 1.0, 'Cast Popularity Trends by Generation')"
      ]
     },
     "execution_count": 508,
     "metadata": {},
     "output_type": "execute_result"
    },
    {
     "data": {
      "image/png": "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",
      "text/plain": [
       "<Figure size 432x288 with 2 Axes>"
      ]
     },
     "metadata": {},
     "output_type": "display_data"
    }
   ],
   "source": [
    "# Setting the positions\n",
    "generation = ['1960s', '1970s', '1980s', '1990s', 'after2000']\n",
    "cast = df_cast.index\n",
    "y_pos = np.arange(len(generation))\n",
    "fig, ax = plt.subplots()\n",
    "# Setting y1: the genre number\n",
    "y1 = df_cast.top\n",
    "# Setting y2 again to present the right-side y axis labels\n",
    "y2 = df_cast.top\n",
    "#plot the bar\n",
    "ax.barh(y_pos,y1, color = '#3385ff')\n",
    "#set the left side y axis ticks position\n",
    "ax.set_yticks(y_pos)\n",
    "#set the left side y axis tick label\n",
    "ax.set_yticklabels(cast)\n",
    "#set left side y axis label\n",
    "ax.set_ylabel('cast')\n",
    "\n",
    "#create another axis to present the right-side y axis labels\n",
    "ax2 = ax.twinx()\n",
    "#plot the bar\n",
    "ax2.barh(y_pos,y2, color = '#3385ff')\n",
    "#set the right side y axis ticks position\n",
    "ax2.set_yticks(y_pos)\n",
    "#set the right side y axis tick label\n",
    "ax2.set_yticklabels(generation)\n",
    "#set right side y axis label\n",
    "ax2.set_ylabel('generation')\n",
    "#set title\n",
    "ax.set_title('Cast Popularity Trends by Generation')"
   ]
  },
  {
   "cell_type": "markdown",
   "metadata": {},
   "source": [
    "<a id='Calculate Top Directors by Decade.'></a>\n",
    "# Calculate Top Directors by Decade"
   ]
  },
  {
   "cell_type": "code",
   "execution_count": 509,
   "metadata": {},
   "outputs": [
    {
     "data": {
      "text/html": [
       "<div>\n",
       "<style scoped>\n",
       "    .dataframe tbody tr th:only-of-type {\n",
       "        vertical-align: middle;\n",
       "    }\n",
       "\n",
       "    .dataframe tbody tr th {\n",
       "        vertical-align: top;\n",
       "    }\n",
       "\n",
       "    .dataframe thead th {\n",
       "        text-align: right;\n",
       "    }\n",
       "</style>\n",
       "<table border=\"1\" class=\"dataframe\">\n",
       "  <thead>\n",
       "    <tr style=\"text-align: right;\">\n",
       "      <th></th>\n",
       "      <th>year</th>\n",
       "      <th>top</th>\n",
       "    </tr>\n",
       "  </thead>\n",
       "  <tbody>\n",
       "    <tr>\n",
       "      <th>Roger Corman</th>\n",
       "      <td>1960s</td>\n",
       "      <td>11</td>\n",
       "    </tr>\n",
       "    <tr>\n",
       "      <th>Woody Allen</th>\n",
       "      <td>1970s</td>\n",
       "      <td>7</td>\n",
       "    </tr>\n",
       "    <tr>\n",
       "      <th>Woody Allen</th>\n",
       "      <td>1980s</td>\n",
       "      <td>11</td>\n",
       "    </tr>\n",
       "    <tr>\n",
       "      <th>Woody Allen</th>\n",
       "      <td>1990s</td>\n",
       "      <td>10</td>\n",
       "    </tr>\n",
       "    <tr>\n",
       "      <th>Steven Soderbergh</th>\n",
       "      <td>after2000</td>\n",
       "      <td>19</td>\n",
       "    </tr>\n",
       "  </tbody>\n",
       "</table>\n",
       "</div>"
      ],
      "text/plain": [
       "                        year  top\n",
       "Roger Corman           1960s   11\n",
       "Woody Allen            1970s    7\n",
       "Woody Allen            1980s   11\n",
       "Woody Allen            1990s   10\n",
       "Steven Soderbergh  after2000   19"
      ]
     },
     "execution_count": 509,
     "metadata": {},
     "output_type": "execute_result"
    }
   ],
   "source": [
    "# List of Decades\n",
    "decades = [decade1960s, decade1970s, decade1980s, decade1990s, decade2000]\n",
    "#Decade names\n",
    "names = ['1960s', '1970s', '1980s', '1990s', 'after2000']\n",
    "#creat a empty dataframe.\n",
    "df_directors = pd.DataFrame()\n",
    "index = 0\n",
    "#iterate years per decade\n",
    "for i in decades:\n",
    "    #Filter the data frame for each year\n",
    "    df_year = df[df.release_year.isin(i)] \n",
    "    #Use the find_top function to find the top keyword per year \n",
    "    df_year_top = pd.DataFrame({'year' :names[index],'top': find_top(df_year.director,1)})\n",
    "     #append dfn2 to df_q2\n",
    "    df_directors = df_directors.append(df_year_top)\n",
    "    index +=1\n",
    "df_directors"
   ]
  },
  {
   "cell_type": "markdown",
   "metadata": {},
   "source": [
    "<a id='Visualise Top Directors by Decade.'></a>\n",
    "# Visualise Top Directors by Decade"
   ]
  },
  {
   "cell_type": "code",
   "execution_count": 510,
   "metadata": {},
   "outputs": [
    {
     "data": {
      "text/plain": [
       "Text(0.5, 1.0, 'Directors Popularity Trends by Generation')"
      ]
     },
     "execution_count": 510,
     "metadata": {},
     "output_type": "execute_result"
    },
    {
     "data": {
      "image/png": "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",
      "text/plain": [
       "<Figure size 432x288 with 2 Axes>"
      ]
     },
     "metadata": {},
     "output_type": "display_data"
    }
   ],
   "source": [
    "# Setting the positions\n",
    "generation = ['1960s', '1970s', '1980s', '1990s', 'after2000']\n",
    "directors = df_directors.index\n",
    "y_pos = np.arange(len(generation))\n",
    "fig, ax = plt.subplots()\n",
    "# Setting y1: the genre number\n",
    "y1 = df_directors.top\n",
    "# Setting y2 again to present the right-side y axis labels\n",
    "y2 = df_directors.top\n",
    "#plot the bar\n",
    "ax.barh(y_pos,y1, color = '#66ff66')\n",
    "#set the left side y axis ticks position\n",
    "ax.set_yticks(y_pos)\n",
    "#set the left side y axis tick label\n",
    "ax.set_yticklabels(directors)\n",
    "#set left side y axis label\n",
    "ax.set_ylabel('cast')\n",
    "\n",
    "#create another axis to present the right-side y axis labels\n",
    "ax2 = ax.twinx()\n",
    "#plot the bar\n",
    "ax2.barh(y_pos,y2, color = '#66ff66')\n",
    "#set the right side y axis ticks position\n",
    "ax2.set_yticks(y_pos)\n",
    "#set the right side y axis tick label\n",
    "ax2.set_yticklabels(generation)\n",
    "#set right side y axis label\n",
    "ax2.set_ylabel('generation')\n",
    "#set title\n",
    "ax.set_title('Directors Popularity Trends by Generation')"
   ]
  },
  {
   "cell_type": "markdown",
   "metadata": {},
   "source": [
    "<a id='Calculate Top Production Company by Decade.'></a>\n",
    "# Calculate Top Production Company by Decade"
   ]
  },
  {
   "cell_type": "code",
   "execution_count": 511,
   "metadata": {},
   "outputs": [
    {
     "data": {
      "text/html": [
       "<div>\n",
       "<style scoped>\n",
       "    .dataframe tbody tr th:only-of-type {\n",
       "        vertical-align: middle;\n",
       "    }\n",
       "\n",
       "    .dataframe tbody tr th {\n",
       "        vertical-align: top;\n",
       "    }\n",
       "\n",
       "    .dataframe thead th {\n",
       "        text-align: right;\n",
       "    }\n",
       "</style>\n",
       "<table border=\"1\" class=\"dataframe\">\n",
       "  <thead>\n",
       "    <tr style=\"text-align: right;\">\n",
       "      <th></th>\n",
       "      <th>year</th>\n",
       "      <th>top</th>\n",
       "    </tr>\n",
       "  </thead>\n",
       "  <tbody>\n",
       "    <tr>\n",
       "      <th>Metro-Goldwyn-Mayer (MGM)</th>\n",
       "      <td>1960s</td>\n",
       "      <td>31</td>\n",
       "    </tr>\n",
       "    <tr>\n",
       "      <th>Universal Pictures</th>\n",
       "      <td>1970s</td>\n",
       "      <td>45</td>\n",
       "    </tr>\n",
       "    <tr>\n",
       "      <th>Paramount Pictures</th>\n",
       "      <td>1980s</td>\n",
       "      <td>86</td>\n",
       "    </tr>\n",
       "    <tr>\n",
       "      <th>Warner Bros.</th>\n",
       "      <td>1990s</td>\n",
       "      <td>153</td>\n",
       "    </tr>\n",
       "    <tr>\n",
       "      <th>Universal Pictures</th>\n",
       "      <td>after2000</td>\n",
       "      <td>234</td>\n",
       "    </tr>\n",
       "  </tbody>\n",
       "</table>\n",
       "</div>"
      ],
      "text/plain": [
       "                                year  top\n",
       "Metro-Goldwyn-Mayer (MGM)      1960s   31\n",
       "Universal Pictures             1970s   45\n",
       "Paramount Pictures             1980s   86\n",
       "Warner Bros.                   1990s  153\n",
       "Universal Pictures         after2000  234"
      ]
     },
     "execution_count": 511,
     "metadata": {},
     "output_type": "execute_result"
    }
   ],
   "source": [
    "# List of Decades\n",
    "decades = [decade1960s, decade1970s, decade1980s, decade1990s, decade2000]\n",
    "#Decade names\n",
    "names = ['1960s', '1970s', '1980s', '1990s', 'after2000']\n",
    "#creat a empty dataframe.\n",
    "df_production_companies = pd.DataFrame()\n",
    "index = 0\n",
    "#iterate years per decade\n",
    "for i in decades:\n",
    "    #Filter the data frame for each year\n",
    "    df_year = df[df.release_year.isin(i)] \n",
    "    #Use the find_top function to find the top keyword per year \n",
    "    df_year_top = pd.DataFrame({'year' :names[index],'top': find_top(df_year.production_companies,1)})\n",
    "     #append dfn2 to df_q2\n",
    "    df_production_companies = df_production_companies.append(df_year_top)\n",
    "    index +=1\n",
    "df_production_companies\n",
    "\n"
   ]
  },
  {
   "cell_type": "markdown",
   "metadata": {},
   "source": [
    "<a id='Visualise Top Production Company by Decade.'></a>\n",
    "# Visualise Top Production Company by Decade"
   ]
  },
  {
   "cell_type": "code",
   "execution_count": 512,
   "metadata": {},
   "outputs": [
    {
     "data": {
      "text/plain": [
       "Text(0.5, 1.0, 'Production Companies Popularity Trends by Generation')"
      ]
     },
     "execution_count": 512,
     "metadata": {},
     "output_type": "execute_result"
    },
    {
     "data": {
      "image/png": "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",
      "text/plain": [
       "<Figure size 432x288 with 2 Axes>"
      ]
     },
     "metadata": {},
     "output_type": "display_data"
    }
   ],
   "source": [
    "# Setting the positions\n",
    "generation = ['1960s', '1970s', '1980s', '1990s', 'after2000']\n",
    "production_companies = df_production_companies.index\n",
    "y_pos = np.arange(len(generation))\n",
    "fig, ax = plt.subplots()\n",
    "# Setting y1: the genre number\n",
    "y1 = df_production_companies.top\n",
    "# Setting y2 again to present the right-side y axis labels\n",
    "y2 = df_production_companies.top\n",
    "#plot the bar\n",
    "ax.barh(y_pos,y1, color = '#ff471a')\n",
    "#set the left side y axis ticks position\n",
    "ax.set_yticks(y_pos)\n",
    "#set the left side y axis tick label\n",
    "ax.set_yticklabels(production_companies)\n",
    "#set left side y axis label\n",
    "ax.set_ylabel('cast')\n",
    "\n",
    "#create another axis to present the right-side y axis labels\n",
    "ax2 = ax.twinx()\n",
    "#plot the bar\n",
    "ax2.barh(y_pos,y2, color = '#ff471a')\n",
    "#set the right side y axis ticks position\n",
    "ax2.set_yticks(y_pos)\n",
    "#set the right side y axis tick label\n",
    "ax2.set_yticklabels(generation)\n",
    "#set right side y axis label\n",
    "ax2.set_ylabel('generation')\n",
    "#set title\n",
    "ax.set_title('Production Companies Popularity Trends by Generation')"
   ]
  },
  {
   "cell_type": "markdown",
   "metadata": {},
   "source": [
    "<a id='Question 3 - Is popularity linked to higher movie budgets and revenues.'></a>\n",
    "# Question 3 - Is popularity linked to higher movie budgets and revenues."
   ]
  },
  {
   "cell_type": "markdown",
   "metadata": {},
   "source": [
    "<a id='Calculate Budgets interals, Low, Medium and High.'></a>\n",
    "# Calculate Budgets interals, Low, Medium and High"
   ]
  },
  {
   "cell_type": "code",
   "execution_count": 513,
   "metadata": {},
   "outputs": [
    {
     "data": {
      "text/plain": [
       "count    5.170000e+03\n",
       "mean     3.073943e+07\n",
       "std      3.890065e+07\n",
       "min      1.000000e+00\n",
       "25%      6.000000e+06\n",
       "50%      1.700000e+07\n",
       "75%      4.000000e+07\n",
       "max      4.250000e+08\n",
       "Name: budget, dtype: float64"
      ]
     },
     "execution_count": 513,
     "metadata": {},
     "output_type": "execute_result"
    }
   ],
   "source": [
    "# see the budget breakdown\n",
    "df_clean['budget'].describe()"
   ]
  },
  {
   "cell_type": "code",
   "execution_count": 514,
   "metadata": {},
   "outputs": [
    {
     "data": {
      "text/plain": [
       "min            1.0\n",
       "50%     17000000.0\n",
       "75%     40000000.0\n",
       "max    425000000.0\n",
       "Name: budget, dtype: float64"
      ]
     },
     "execution_count": 514,
     "metadata": {},
     "output_type": "execute_result"
    }
   ],
   "source": [
    "# use .loc[] to select the rows I want\n",
    "df_clean['budget'].describe().loc[['min','50%','75%','max']]"
   ]
  },
  {
   "cell_type": "code",
   "execution_count": 515,
   "metadata": {},
   "outputs": [
    {
     "name": "stdout",
     "output_type": "stream",
     "text": [
      "budget intervals are [1.00e+00 1.70e+07 4.00e+07 4.25e+08] \n",
      "Labels are ['Low', 'Moderate', 'High']\n"
     ]
    }
   ],
   "source": [
    "# List of Intervals\n",
    "budget_intervals = df_clean['budget'].describe().loc[['min','50%','75%','max']].values\n",
    "# List of labels\n",
    "budget_labels = ['Low','Moderate','High']\n",
    "print('budget intervals are', budget_intervals, '\\nLabels are', budget_labels)"
   ]
  },
  {
   "cell_type": "code",
   "execution_count": 516,
   "metadata": {},
   "outputs": [
    {
     "data": {
      "text/plain": [
       "Low         2590\n",
       "Moderate    1381\n",
       "High        1199\n",
       "Name: Budget Intervals, dtype: int64"
      ]
     },
     "execution_count": 516,
     "metadata": {},
     "output_type": "execute_result"
    }
   ],
   "source": [
    "# create new variable using pd.cut()\n",
    "df_clean['Budget Intervals']=pd.cut(df_clean['budget'],\n",
    "                                   bins=budget_intervals,\n",
    "                                   labels=budget_labels,\n",
    "                                   include_lowest=True)\n",
    "# Check\n",
    "df_clean['Budget Intervals'].value_counts().sort_index()"
   ]
  },
  {
   "cell_type": "code",
   "execution_count": 517,
   "metadata": {},
   "outputs": [
    {
     "data": {
      "text/html": [
       "<div>\n",
       "<style scoped>\n",
       "    .dataframe tbody tr th:only-of-type {\n",
       "        vertical-align: middle;\n",
       "    }\n",
       "\n",
       "    .dataframe tbody tr th {\n",
       "        vertical-align: top;\n",
       "    }\n",
       "\n",
       "    .dataframe thead th {\n",
       "        text-align: right;\n",
       "    }\n",
       "</style>\n",
       "<table border=\"1\" class=\"dataframe\">\n",
       "  <thead>\n",
       "    <tr style=\"text-align: right;\">\n",
       "      <th></th>\n",
       "      <th>Budget Intervals</th>\n",
       "      <th>budget</th>\n",
       "    </tr>\n",
       "  </thead>\n",
       "  <tbody>\n",
       "    <tr>\n",
       "      <th>0</th>\n",
       "      <td>High</td>\n",
       "      <td>150000000</td>\n",
       "    </tr>\n",
       "    <tr>\n",
       "      <th>1</th>\n",
       "      <td>High</td>\n",
       "      <td>150000000</td>\n",
       "    </tr>\n",
       "    <tr>\n",
       "      <th>2</th>\n",
       "      <td>High</td>\n",
       "      <td>110000000</td>\n",
       "    </tr>\n",
       "    <tr>\n",
       "      <th>3</th>\n",
       "      <td>High</td>\n",
       "      <td>200000000</td>\n",
       "    </tr>\n",
       "    <tr>\n",
       "      <th>4</th>\n",
       "      <td>High</td>\n",
       "      <td>190000000</td>\n",
       "    </tr>\n",
       "    <tr>\n",
       "      <th>...</th>\n",
       "      <td>...</td>\n",
       "      <td>...</td>\n",
       "    </tr>\n",
       "    <tr>\n",
       "      <th>10835</th>\n",
       "      <td>Low</td>\n",
       "      <td>12000000</td>\n",
       "    </tr>\n",
       "    <tr>\n",
       "      <th>10841</th>\n",
       "      <td>Low</td>\n",
       "      <td>75000</td>\n",
       "    </tr>\n",
       "    <tr>\n",
       "      <th>10848</th>\n",
       "      <td>Low</td>\n",
       "      <td>5115000</td>\n",
       "    </tr>\n",
       "    <tr>\n",
       "      <th>10855</th>\n",
       "      <td>Low</td>\n",
       "      <td>700000</td>\n",
       "    </tr>\n",
       "    <tr>\n",
       "      <th>10865</th>\n",
       "      <td>Low</td>\n",
       "      <td>19000</td>\n",
       "    </tr>\n",
       "  </tbody>\n",
       "</table>\n",
       "<p>5170 rows × 2 columns</p>\n",
       "</div>"
      ],
      "text/plain": [
       "      Budget Intervals     budget\n",
       "0                 High  150000000\n",
       "1                 High  150000000\n",
       "2                 High  110000000\n",
       "3                 High  200000000\n",
       "4                 High  190000000\n",
       "...                ...        ...\n",
       "10835              Low   12000000\n",
       "10841              Low      75000\n",
       "10848              Low    5115000\n",
       "10855              Low     700000\n",
       "10865              Low      19000\n",
       "\n",
       "[5170 rows x 2 columns]"
      ]
     },
     "execution_count": 517,
     "metadata": {},
     "output_type": "execute_result"
    }
   ],
   "source": [
    "df_clean[['Budget Intervals','budget']]"
   ]
  },
  {
   "cell_type": "markdown",
   "metadata": {},
   "source": [
    "<a id='Visualise Budget against Popularity'></a>\n",
    "# Visualise Budget against Popularity"
   ]
  },
  {
   "cell_type": "code",
   "execution_count": 518,
   "metadata": {},
   "outputs": [
    {
     "data": {
      "image/png": "iVBORw0KGgoAAAANSUhEUgAAAzYAAAH/CAYAAACFN0gUAAAAOXRFWHRTb2Z0d2FyZQBNYXRwbG90bGliIHZlcnNpb24zLjQuMiwgaHR0cHM6Ly9tYXRwbG90bGliLm9yZy8rg+JYAAAACXBIWXMAAAsTAAALEwEAmpwYAAAmVUlEQVR4nO3df5iVdZ3/8df8aHBgJkdzUotAZGOrZV1C2ytXyWoz68KMvRQZdMFdXcptrU1sTbNYRAPMn3vRKuW2rWIlxlYLWmyZXrGLmT8uxy4w5ZLCld0rHS+jHAZmHM75/tHXUVIYFOjMRx6Pf5pz3+fmvI+d87l4ct9zTl21Wq0GAACgYPW1HgAAAGB3CRsAAKB4wgYAACiesAEAAIonbAAAgOI11nqA51QqlWzb5gPa9nUNDXVeB0AS6wGwPWsCSfKa1zTscN+QCZtt26rZtKmn1mNQY21tw70OgCTWA2B71gSSpL29dYf7XIoGAAAUT9gAAADFEzYAAEDxhA0AAFA8YQMAABRP2AAAAMUTNgAAQPGEDQAAUDxhAwAAFE/YAAAAxRM2AABA8YQNAABQPGEDAAAUT9gAAADFEzYAAEDxhA0AAFA8YQMAABRP2AAAAMUTNgAAQPEaaz0AAAA71/La5jQP89e29vbWWo9QU1t6+9P9my21HmPI8g4BABjimoc15rALbqv1GNTYhoWT013rIYYwl6IBAADFEzYAAEDxhA0AAFA8YQMAABRP2AAAAMUTNgAAQPGEDQAAUDxhAwAAFE/YAAAAxRM2AABA8YQNAABQPGEDAAAUr3FX7vTggw/miiuuyJIlSwa2dXV1Zfbs2QO3f/azn+W8887L9OnTM2XKlLS2tiZJRo4cmQULFuzhsQEAAJ43aNhcf/31Wb58eZqbm7fb3t7ePhA6DzzwQK6++uqceuqp6e3tTZLtIggAAGBvGjRsRo0alUWLFuX8889/yf3VajWXXHJJrrjiijQ0NGTNmjXZsmVLzjzzzPT392f27NmZMGHCoIM0NNSlrW34y34CvLo0NNR7HQBJrAcAL8W6uGODhs0JJ5yQjRs37nD/HXfckTe/+c05/PDDkyT77bdfzjrrrEydOjUbNmzIrFmzsnLlyjQ27vyhtm2rZtOmnpc5Pq82bW3DvQ6AJNYDeKH29tZaj8AQsa+vizt7L+zS79jszPLlyzNz5syB22PGjMno0aNTV1eXMWPGpK2tLV1dXTn00EN396EAAABe0m5/KtratWszceLEgdvLli3LwoULkyRPPPFEuru7097evrsPAwAAsEMvO2xWrFiRpUuXJkmefvrpjBgxInV1dQP7TznllDzzzDOZPn16zj333MyfP3/Qy9AAAAB2R121Wq3WeogkefbZbfv8NYO4ph54nvUAntfe3prDLrit1mNQYxsWTk5X1zO1HqOmdvY7Nr6gEwAAKJ6wAQAAiidsAACA4gkbAACgeMIGAAAonrABAACKJ2wAAIDiCRsAAKB4wgYAACiesAEAAIonbAAAgOIJGwAAoHjCBgAAKJ6wAQAAiidsAACA4gkbAACgeMIGAAAonrABAACKJ2wAAIDiCRsAAKB4wgYAACiesAEAAIonbAAAgOIJGwAAoHjCBgAAKJ6wAQAAiidsAACA4gkbAACgeMIGAAAonrABAACKJ2wAAIDiCRsAAKB4wgYAACiesAEAAIonbAAAgOIJGwAAoHjCBgAAKJ6wAQAAiidsAACA4gkbAACgeMIGAAAonrABAACKJ2wAAIDiCRsAAKB4wgYAACiesAEAAIonbAAAgOIJGwAAoHjCBgAAKN4uhc2DDz6YGTNmvGj7V7/61UyePDkzZszIjBkz8vOf/zyVSiVz5szJtGnTMmPGjDz22GN7fGgAAIAXahzsDtdff32WL1+e5ubmF+1bu3ZtLrvssowfP35g2/e///309fVl6dKl6ezszMKFC3Pdddft2akBAABeYNCwGTVqVBYtWpTzzz//RfvWrl2bL3/5y+nq6sq73/3ufPSjH83999+fSZMmJUkmTJiQNWvW7NIgDQ11aWsb/jLH59WmoaHe6wBIYj0AeCnWxR0bNGxOOOGEbNy48SX3TZ48OaeddlpaWlpyzjnn5M4770x3d3daWloG7tPQ0JD+/v40Nu78obZtq2bTpp6XOT6vNm1tw70OgCTWA3ih9vbWWo/AELGvr4s7ey8MGjY7Uq1Wc8YZZ6S19bd/+HHHHZeHHnooLS0t2bx588D9KpXKoFEDAACwO17xp6J1d3fnxBNPzObNm1OtVvOTn/wk48ePz8SJE7Nq1aokSWdnZ8aNG7fHhgUAAHgpL/tUyooVK9LT05Np06bl3HPPzcyZM9PU1JSjjz46xx13XCqVSlavXp2Ojo5Uq9XMnz9/b8wNAAAwoK5arVZrPUSSPPvstn3+mkFcUw88z3oAz2tvb81hF9xW6zGosQ0LJ6er65laj1FTO/sdG1/QCQAAFE/YAAAAxRM2AABA8YQNAABQPGEDAAAUT9gAAADFEzYAAEDxhA0AAFA8YQMAABRP2AAAAMUTNgAAQPGEDQAAUDxhAwAAFE/YAAAAxRM2AABA8YQNAABQPGEDAAAUT9gAAADFEzYAAEDxhA0AAFA8YQMAABRP2AAAAMUTNgAAQPGEDQAAUDxhAwAAFE/YAAAAxRM2AABA8YQNAABQPGEDAAAUT9gAAADFEzYAAEDxhA0AAFA8YQMAABRP2AAAAMUTNgAAQPGEDQAAUDxhAwAAFE/YAAAAxRM2AABA8YQNAABQPGEDAAAUT9gAAADFEzYAAEDxhA0AAFA8YQMAABRP2AAAAMUTNgAAQPGEDQAAULzGXbnTgw8+mCuuuCJLlizZbvutt96aG264IQ0NDRk3blzmzp2b+vr6TJkyJa2trUmSkSNHZsGCBXt+cgAAgP9v0LC5/vrrs3z58jQ3N2+3fevWrbnmmmuyYsWKNDc3Z/bs2bnzzjtz7LHHJsmLIggAAGBvGfRStFGjRmXRokUv2t7U1JSbb755IHj6+/szbNiwPPzww9myZUvOPPPMzJw5M52dnXt8aAAAgBca9IzNCSeckI0bN75oe319fQ466KAkvz0709PTk2OOOSbr1q3LWWedlalTp2bDhg2ZNWtWVq5cmcbGnT9UQ0Nd2tqGv8KnwatFQ0O91wGQxHoA8FKsizu2S79jsyOVSiWXX355fvGLX2TRokWpq6vLmDFjMnr06IGf29ra0tXVlUMPPXSnf9a2bdVs2tSzO+PwKtDWNtzrAEhiPYAXam9vrfUIDBH7+rq4s/fCbn0q2pw5c9Lb25trr7124JK0ZcuWZeHChUmSJ554It3d3Wlvb9+dhwEAANipl33GZsWKFenp6cn48eOzbNmyHHXUUTnjjDOSJDNnzswpp5ySCy+8MNOnT09dXV3mz58/6GVoAAAAu6OuWq1Waz1Ekjz77LZ9/tQaLj0Bnmc9gOe1t7fmsAtuq/UY1NiGhZPT1fVMrceoqb12KRoAAMBQIGwAAIDiCRsAAKB4wgYAACiesAEAAIonbAAAgOIJGwAAoHjCBgAAKJ6wAQAAiidsAACA4gkbAACgeMIGAAAonrABAACKJ2wAAIDiCRsAAKB4wgYAACiesAEAAIonbAAAgOIJGwAAoHjCBgAAKJ6wAQAAiidsAACA4gkbAACgeMIGAAAonrABAACKJ2wAAIDiCRsAAKB4wgYAACiesAEAAIonbAAAgOIJGwAAoHjCBgAAKJ6wAQAAiidsAACA4gkbAACgeMIGAAAonrABAACKJ2wAAIDiCRsAAKB4wgYAACiesAEAAIonbAAAgOIJGwAAoHjCBgAAKJ6wAQAAiidsAACA4gkbAACgeMIGAAAonrABAACKt0th8+CDD2bGjBkv2n7HHXfk5JNPzrRp03LLLbckSSqVSubMmZNp06ZlxowZeeyxx/bsxAAAAL+jcbA7XH/99Vm+fHmam5u32/7ss89mwYIFWbZsWZqbmzN9+vS85z3vyQMPPJC+vr4sXbo0nZ2dWbhwYa677rq99gQAAAAGPWMzatSoLFq06EXb169fn1GjRmX//fdPU1NTjjzyyNx33325//77M2nSpCTJhAkTsmbNmj0/NQAAwAsMesbmhBNOyMaNG1+0vbu7O62trQO3R4wYke7u7nR3d6elpWVge0NDQ/r7+9PYuPOHamioS1vb8JczO69CDQ31XgdAEusBwEuxLu7YoGGzIy0tLdm8efPA7c2bN6e1tfVF2yuVyqBRkyTbtlWzaVPPKx2HV4m2tuFeB0AS6wG8UHt76+B3Yp+wr6+LO3svvOJPRRs7dmwee+yxbNq0KX19fbnvvvvy9re/PRMnTsyqVauSJJ2dnRk3btwrfQgAAIBd8rLP2KxYsSI9PT2ZNm1aLrjggpx11lmpVqs5+eSTc/DBB+f444/P6tWr09HRkWq1mvnz5++NuQFe1Vpe25zmYa/4pPqrhn+lTrb09qf7N1tqPQbAkFdXrVartR4iSZ59dts+f2oNl57Ac9rbW3PYBbfVegyGgA0LJ6er65laj0GNWRNIrAfJXroUDQAAYKgQNgAAQPGEDQAAUDxhAwAAFE/YAAAAxRM2AABA8YQNAABQPGEDAAAUT9gAAADFEzYAAEDxhA0AAFA8YQMAABRP2AAAAMUTNgAAQPGEDQAAUDxhAwAAFE/YAAAAxRM2AABA8YQNAABQPGEDAAAUT9gAAADFEzYAAEDxhA0AAFA8YQMAABRP2AAAAMUTNgAAQPGEDQAAUDxhAwAAFE/YAAAAxRM2AABA8YQNAABQPGEDAAAUT9gAAADFEzYAAEDxhA0AAFA8YQMAABRP2AAAAMUTNgAAQPGEDQAAUDxhAwAAFE/YAAAAxRM2AABA8YQNAABQPGEDAAAUT9gAAADFEzYAAEDxhA0AAFA8YQMAABRP2AAAAMVrHOwOlUolc+fOzSOPPJKmpqZceumlGT16dJKkq6srs2fPHrjvz372s5x33nmZPn16pkyZktbW1iTJyJEjs2DBgr30FAAAgH3doGFz++23p6+vL0uXLk1nZ2cWLlyY6667LknS3t6eJUuWJEkeeOCBXH311Tn11FPT29ubJAP7AAAA9qZBL0W7//77M2nSpCTJhAkTsmbNmhfdp1qt5pJLLsncuXPT0NCQhx9+OFu2bMmZZ56ZmTNnprOzc48PDgAA8JxBz9h0d3enpaVl4HZDQ0P6+/vT2Pj8oXfccUfe/OY35/DDD0+S7LfffjnrrLMyderUbNiwIbNmzcrKlSu3O+Z3NTTUpa1t+O48F14FGhrqvQ4Afod1EXiO9WDHBg2blpaWbN68eeB2pVJ5UaAsX748M2fOHLg9ZsyYjB49OnV1dRkzZkza2trS1dWVQw89dIePs21bNZs29byS58CrSFvbcK8DSNLe3lrrERhCrItYE3jOvr4e7Oy9MOilaBMnTsyqVauSJJ2dnRk3btyL7rN27dpMnDhx4PayZcuycOHCJMkTTzyR7u7utLe3v+zBAQAAdsWgZ2yOP/74rF69Oh0dHalWq5k/f35WrFiRnp6eTJs2LU8//XRGjBiRurq6gWNOOeWUXHjhhZk+fXrq6uoyf/78nV6GBgAAsDsGrY36+vrMmzdvu21jx44d+PnAAw/Mf/zHf2y3v6mpKVdeeeUeGhEAAGDnfEEnAABQPGEDAAAUT9gAAADFEzYAAEDxhA0AAFA8YQMAABRP2AAAAMUTNgAAQPGEDQAAUDxhAwAAFE/YAAAAxRM2AABA8YQNAABQPGEDAAAUT9gAAADFEzYAAEDxhA0AAFA8YQMAABRP2AAAAMUTNgAAQPGEDQAAUDxhAwAAFE/YAAAAxRM2AABA8YQNAABQPGEDAAAUr7HWA/C8ltc2p3mY/0va21trPUJNbentT/dvttR6DACAovhb9BDSPKwxh11wW63HoMY2LJyc7loPAQBQGJeiAQAAxRM2AABA8YQNAABQPGEDAAAUT9gAAADFEzYAAEDxhA0AAFA8YQMAABRP2AAAAMUTNgAAQPGEDQAAUDxhAwAAFE/YAAAAxRM2AABA8YQNAABQPGEDAAAUT9gAAADFEzYAAEDxhA0AAFA8YQMAABRP2AAAAMVrHOwOlUolc+fOzSOPPJKmpqZceumlGT169MD+r371q1m2bFkOPPDAJMnFF1+cww47bKfHAAAA7EmDhs3tt9+evr6+LF26NJ2dnVm4cGGuu+66gf1r167NZZddlvHjxw9s+/73v7/TYwAAAPakQcPm/vvvz6RJk5IkEyZMyJo1a7bbv3bt2nz5y19OV1dX3v3ud+ejH/3ooMcAAADsSYOGTXd3d1paWgZuNzQ0pL+/P42Nvz108uTJOe2009LS0pJzzjknd95556DHvJSGhrq0tQ3fnecCrxreC8ALWROA51gPdmzQsGlpacnmzZsHblcqlYFAqVarOeOMM9La2pokOe644/LQQw/t9Jgd2batmk2bel7Rk3i1aG9vrfUIDBH7+nsB6wHbsyZgTeA5+/p6sLP3wqCfijZx4sSsWrUqSdLZ2Zlx48YN7Ovu7s6JJ56YzZs3p1qt5ic/+UnGjx+/02MAAAD2tEHP2Bx//PFZvXp1Ojo6Uq1WM3/+/KxYsSI9PT2ZNm1azj333MycOTNNTU05+uijc9xxx6VSqbzoGAAAgL1l0LCpr6/PvHnztts2duzYgZ+nTJmSKVOmDHoMAADA3uILOgEAgOIJGwAAoHjCBgAAKJ6wAQAAiidsAACA4gkbAACgeMIGAAAonrABAACKJ2wAAIDiCRsAAKB4wgYAACiesAEAAIonbAAAgOIJGwAAoHjCBgAAKJ6wAQAAiidsAACA4gkbAACgeMIGAAAonrABAACKJ2wAAIDiCRsAAKB4wgYAACiesAEAAIonbAAAgOIJGwAAoHjCBgAAKJ6wAQAAiidsAACA4gkbAACgeMIGAAAonrABAACKJ2wAAIDiCRsAAKB4wgYAACiesAEAAIonbAAAgOIJGwAAoHjCBgAAKJ6wAQAAiidsAACA4gkbAACgeMIGAAAonrABAACKJ2wAAIDiCRsAAKB4wgYAACiesAEAAIonbAAAgOI1DnaHSqWSuXPn5pFHHklTU1MuvfTSjB49emD/rbfemhtuuCENDQ0ZN25c5s6dm/r6+kyZMiWtra1JkpEjR2bBggV771kAAAD7tEHD5vbbb09fX1+WLl2azs7OLFy4MNddd12SZOvWrbnmmmuyYsWKNDc3Z/bs2bnzzjtz7LHHJkmWLFmyd6cHAADILoTN/fffn0mTJiVJJkyYkDVr1gzsa2pqys0335zm5uYkSX9/f4YNG5aHH344W7ZsyZlnnpn+/v7Mnj07EyZM2OnjNDTUpa1t+G48FXj18F4AXsiaADzHerBjg4ZNd3d3WlpaBm43NDSkv78/jY2Nqa+vz0EHHZTkt2dnenp6cswxx2TdunU566yzMnXq1GzYsCGzZs3KypUr09i444fbtq2aTZt69sBTKld7e2utR2CI2NffC1gP2J41AWsCz9nX14OdvRcGDZuWlpZs3rx54HalUtkuUCqVSi6//PL84he/yKJFi1JXV5cxY8Zk9OjRAz+3tbWlq6srhx566G4+FQAAgBcb9FPRJk6cmFWrViVJOjs7M27cuO32z5kzJ729vbn22msHLklbtmxZFi5cmCR54okn0t3dnfb29j09OwAAQJJdOGNz/PHHZ/Xq1eno6Ei1Ws38+fOzYsWK9PT0ZPz48Vm2bFmOOuqonHHGGUmSmTNn5pRTTsmFF16Y6dOnp66uLvPnz9/pZWgAAAC7Y9DaqK+vz7x587bbNnbs2IGfH3744Zc87sorr9zN0QAAAHaNL+gEAACKJ2wAAIDiCRsAAKB4wgYAACiesAEAAIonbAAAgOIJGwAAoHjCBgAAKJ6wAQAAiidsAACA4gkbAACgeMIGAAAonrABAACKJ2wAAIDiCRsAAKB4wgYAACiesAEAAIonbAAAgOIJGwAAoHjCBgAAKJ6wAQAAiidsAACA4gkbAACgeMIGAAAonrABAACKJ2wAAIDiCRsAAKB4wgYAACiesAEAAIonbAAAgOIJGwAAoHjCBgAAKJ6wAQAAiidsAACA4gkbAACgeMIGAAAonrABAACKJ2wAAIDiCRsAAKB4wgYAACiesAEAAIonbAAAgOIJGwAAoHjCBgAAKJ6wAQAAiidsAACA4gkbAACgeMIGAAAonrABAACKN2jYVCqVzJkzJ9OmTcuMGTPy2GOPbbf/jjvuyMknn5xp06bllltu2aVjAAAA9qRBw+b2229PX19fli5dmvPOOy8LFy4c2Pfss89mwYIF+dd//dcsWbIkS5cuTVdX106PAQAA2NMaB7vD/fffn0mTJiVJJkyYkDVr1gzsW79+fUaNGpX9998/SXLkkUfmvvvuS2dn5w6P2ZHXvKYh7e2tr+hJvJpsWDi51iMwBHgvkFgPeJ41gcSawG9ZD3Zs0DM23d3daWlpGbjd0NCQ/v7+gX2trc//xx0xYkS6u7t3egwAAMCeNmjYtLS0ZPPmzQO3K5VKGhsbX3Lf5s2b09rautNjAAAA9rRBw2bixIlZtWpVkqSzszPjxo0b2Dd27Ng89thj2bRpU/r6+nLffffl7W9/+06PAQAA2NPqqtVqdWd3qFQqmTt3btatW5dqtZr58+fnoYceSk9PT6ZNm5Y77rgj//zP/5xqtZqTTz45p59++kseM3bs2N/XcwIAAPYxg4YNAADAUOcLOgEAgOIJGwAAoHjCBgAAKJ6woeaefPLJWo8AAEDhfHgANXfWWWelr68v73nPe3L88cfnTW96U61HAoaAX//619l///1rPQYAhRA2DAnd3d1ZtWpVbrzxxmzdujXf+c53aj0SUCP33HNP5s2bl23btuUDH/hA3vCGN2Tq1Km1HguogVtuuSU33HBDtm7dmmq1mrq6uvzwhz+s9VgMUY21HgBuv/323HXXXXnwwQfzhje8Iccee2ytRwJq6J/+6Z9y00035eMf/3jOPvvsTJ8+XdjAPurmm2/Ol7/85bS3t9d6FAogbKi5K664IsOGDctHPvKRTJo0Ka997WtrPRJQQ/X19Wlra0tdXV2GDRuWESNG1HokoEYOOOCAvPGNb6z1GBTCpWgMCRs3bsx///d/57vf/W62bt2aW265pdYjATVy0UUX5cADD8yPfvSjnHjiiVm/fn0uu+yyWo8F/B5dddVVSZIHHnggTU1Nedvb3pa6urokyezZs2s5GkOYMzbU3Nq1a/OjH/0od911V/bbb7988IMfrPVIQA1dfPHF+eY3v5kjjzwyzc3NufTSS2s9EvB7NmbMmO3+F3aFMzbU3N/93d/l/e9/f9773vemtbW11uMANTZv3rzMmTNn4Pb555+fL3zhCzWcCKiV3/0wocbGxhxyyCE56qijajMQQ5qwoeaeeeaZXHvttVm/fn0OO+ywfOxjH0tbW1utxwJ+z772ta/luuuuy6ZNm7ZbA8aOHZsbbrihdoMBNTNr1qxs3bo1EyZMyE9/+tP09vamsbExb3vb2/KZz3ym1uMxxAgbau4Tn/hE3vGOd+Soo47KPffckx//+MdZvHhxrccCamTx4sU5++yzaz0GMAT89V//db7yla+kvr4+lUols2bNyle+8pV0dHTk5ptvrvV4DDF+x4aa+9WvfpUZM2YkSd761rfmP//zP2s8EVBLHR0dufXWW9Pf359qtZonn3wyH/3oR2s9FlADmzZtSn9/f5qamtLf359f//rXSZK+vr4aT8ZQJGyoud7e3nR1daW9vT1PPfVUKpVKrUcCaugTn/hEDjvssKxbty7Dhg1Lc3NzrUcCauS0007Lhz70obz5zW/Oz3/+8/zN3/xNFi9enEmTJtV6NIYgYUPN/f3f/306OjrS2tqa7u5u/zILZN68ebnwwgvz+c9/PqeffnqtxwFqZOrUqXnf+96X//mf/8moUaNywAEHZNu2bWloaKj1aAxBwoaaO+aYY/LDH/4wTz/9dA444IBMnTrVt4zDPq63tzdbtmxJXV1denp6aj0O8Ht27bXX5mMf+1hmz5498P01z7nyyitrNBVDnbBhyDjwwAOTJD7PAvZtp59+em644YYcc8wxOe6443LkkUfWeiTg92zEiBH5zne+k0mTJqWurm7g7wa/GznwQsKGIceiBfu23t7efOQjH0mSfPCDH0xLS0uNJwJ+35566qk89dRTSZLbbrstJ554YqrVqr8jsFPChpp5qdPL1Wo1jz/+eI0mAoaCW265JSeddFKSiBrYR5133nkDP3d2dmb27Nk1nIZSCBtqpqOj42VtB/YNfX19mTJlSsaMGZP6+vokrqmHfZmzNOwqYUPN/Omf/mmtRwCGoE996lO1HgGAAtVV/aY2AENId3d3rr/++nR1deXd7353/vAP/zCjR4+u9VjA79Fzl6tXq9XcfffdOfroowf2OYPLjjhjA8CQ8pnPfCbvete7cu+99+aggw7KRRddlJtuuqnWYwG/Ry+8LN0l6uwqYQPAkLJp06accsopWb58eSZOnOgj4GEf5HJ1Xon6Wg8AAL9r/fr1SZJf/vKXAx8gAAA743dsABhSHnnkkcyZMyfr16/P4Ycfnn/8x3/MH/3RH9V6LACGOGEDAAAUz+/YADAkvPe9793u+yoaGxvT39+fpqamfO9736vhZACUQNgAMCSsXLky1Wo1F198cTo6OnLEEUfkoYceyte//vVajwZAAYQNAENCU1NTkuTxxx/PEUcckSR529vell/84he1HAuAQggbAIaU1tbWXHPNNTniiCPywAMP5I1vfGOtRwKgAD48AIAhpaenJ9/+9rfz6KOP5vDDD89pp52WhoaGWo8FwBDnywEAGFKGDRuWJKlWq6lUKtm2bVuNJwKgBMIGgCHlc5/7XB5//PEce+yx+d///d989rOfrfVIABTA79gAMKQ89thj+drXvpYked/73peOjo4aTwRACZyxAWBI6e3tzZYtW5IkW7ZscSkaALvEGRsAhpQzzjgjU6ZMyR/8wR/k0UcfzSc+8YlajwRAAXwqGgBDwoUXXjjw869+9atUq9XU1dXlgAMOyIIFC2o4GQAlcMYGgCFhzZo12bp1a0466aRMnjw5/t0NgJfDGRsAhox169Zl+fLl+elPf5p3vOMdOemkkzJ69OhajwVAAYQNAEPSvffemyVLluSXv/xlbrnlllqPA8AQ51I0AIaU7u7u/OAHP8itt96aLVu25KSTTqr1SAAUwBkbAIaE733ve7ntttvyf//3f3n/+9+fE088MSNHjqz1WAAUQtgAMCS85S1vyeGHH563vOUtSZK6urqBfVdeeWWtxgKgEC5FA2BIuPHGG2s9AgAFc8YGAAAoXn2tBwAAANhdwgYAACiesAEgSfKTn/wkRx99dGbMmJG//Mu/TEdHR9avX7/Lx5966qnZuHHjy3rM3t7efPOb33zR9kWLFuUb3/jGDo/btGlTVqxY8bIea1ds3Lgxp5566h7/cwHY+4QNAAPe+c53ZsmSJbnppptyzjnn5Atf+MJefbyurq6XDJvBPPLII7njjjv2wkQAlMqnogHwkn7zm9/kjW98Y5JkxowZmTt3bsaOHZtvfOMbeeqpp/Lxj388V199df7rv/4rhxxySH71q18lSZ5++ul86lOfSl9fX8aMGZO77747P/jBD3LPPffk6quvTkNDQ970pjdl3rx5Wbx4cR599NF88YtfzDnnnPOiGTZu3JjzzjsvhxxySB5//PH88R//cS6++OIsXrw4Dz/8cJYuXZp3vetd+dznPpfe3t4MGzYsl1xySbZt25a//du/TVtbW971rnflW9/6Vr773e+mrq4uF198cf7sz/4s+++/f774xS8mSbZu3ZrLLrssr3nNawYe++qrr87dd9+dSqWSyZMn56/+6q/2/n90AF4xYQPAgLvvvjszZsxIX19fHnnkkXzpS1/a4X3XrVuXe++9N8uWLUtPT0/e//73J0kWL16cP//zP8/pp5+e1atXZ/Xq1alWq/nc5z6Xr3/963nd616Xa665Jt/+9rdz9tlnZ926dS8ZNc/ZsGFDvvKVr6S5uTnve9/70tXVlbPPPjs333xzpk2blk9+8pOZMWNGjjvuuPz4xz/OFVdckXPPPTddXV3593//9zQ1NWXt2rW577778id/8ie55557ctFFF2Xp0qW5/PLLc/DBB2fx4sVZuXJlPvShDw087ne+853cdNNNOfjgg/Otb31rz/1HBmCvEDYADHjnO9+Zq6++Okny85//PB0dHVm1atV293nuWwIeffTRjB8/PvX19Wlpacm4ceOSJOvXr89f/MVfJEmOOuqoJL89i/Pkk0/mk5/8ZJLfniE55phjdmmmUaNGpaWlJUnS3t6e3t7e7favW7cuX/rSl/Iv//IvqVarA2ddRo4cmaampiS//f2fb3/72+nq6sp73/veNDY25uCDD87nP//5DB8+PE888UQmTpy43Z971VVX5aqrrspTTz2VSZMm7dKsANSOsAHgJR100EEDPzc1NaWrqytjx47NQw89lIMPPjhjxozJjTfemEqlkq1bt+bRRx9NkowbNy4PPPBA3vrWt6azszNJcsABB+SQQw7Jtddem9bW1vzwhz/M8OHDU19fn0qlstM56urqXrTthccdfvjhOfPMMzNx4sSsX78+995778B9nnP00Ufn8ssvzxNPPJE5c+YkST772c/m9ttvT0tLSz796U/nhV/r1tfXl5UrV+aqq65KtVrN5MmTM3ny5IFL8wAYeoQNAAOeuxStvr4+mzdvzgUXXJD99tsvM2fOzLx583LooYfm9a9/fZLkrW99az7wgQ/klFNOyetf//q87nWvS5LMmjUr559/fr73ve/l9a9/fRobG1NfX5+LLrooH/nIR1KtVjNixIh84QtfSEtLS5599tlcfvnl+Yd/+IddnnPUqFFZt25d/u3f/i2f/vSnM3fu3PT29mbr1q256KKLXnT/urq6nHDCCbnrrrsyevToJMmHP/zhnHrqqXnta1+bgw46KE8++eTA/ZuamrL//vvnwx/+cPbff/8cc8wxecMb3rA7/2kB2Mvqqi/8JyoA2E0/+tGPcsABB+SII47IXXfdlcWLF+fGG2+s9VgAvMo5YwPAHjVy5Mh85jOfSUNDQyqVykueQQGAPc0ZGwAAoHi+oBMAACiesAEAAIonbAAAgOIJGwAAoHjCBgAAKN7/A664iyv5JuDFAAAAAElFTkSuQmCC",
      "text/plain": [
       "<Figure size 1008x576 with 1 Axes>"
      ]
     },
     "metadata": {},
     "output_type": "display_data"
    }
   ],
   "source": [
    "df_clean.groupby(['Budget Intervals'])['popularity'].mean().plot.bar(figsize=[14,8]);"
   ]
  },
  {
   "cell_type": "code",
   "execution_count": 519,
   "metadata": {},
   "outputs": [
    {
     "data": {
      "text/plain": [
       "Budget Intervals  release_year\n",
       "Low               1960            0.890063\n",
       "                  1961            0.650838\n",
       "                  1962            0.672336\n",
       "                  1963            0.702942\n",
       "                  1964            0.921256\n",
       "                                    ...   \n",
       "High              2011            1.810899\n",
       "                  2012            2.351899\n",
       "                  2013            2.219438\n",
       "                  2014            4.123857\n",
       "                  2015            5.453505\n",
       "Name: popularity, Length: 168, dtype: float64"
      ]
     },
     "execution_count": 519,
     "metadata": {},
     "output_type": "execute_result"
    }
   ],
   "source": [
    "df_clean.groupby(['Budget Intervals','release_year'])['popularity'].mean()"
   ]
  },
  {
   "cell_type": "code",
   "execution_count": 520,
   "metadata": {},
   "outputs": [
    {
     "data": {
      "text/html": [
       "<div>\n",
       "<style scoped>\n",
       "    .dataframe tbody tr th:only-of-type {\n",
       "        vertical-align: middle;\n",
       "    }\n",
       "\n",
       "    .dataframe tbody tr th {\n",
       "        vertical-align: top;\n",
       "    }\n",
       "\n",
       "    .dataframe thead th {\n",
       "        text-align: right;\n",
       "    }\n",
       "</style>\n",
       "<table border=\"1\" class=\"dataframe\">\n",
       "  <thead>\n",
       "    <tr style=\"text-align: right;\">\n",
       "      <th>Budget Intervals</th>\n",
       "      <th>Low</th>\n",
       "      <th>Moderate</th>\n",
       "      <th>High</th>\n",
       "    </tr>\n",
       "    <tr>\n",
       "      <th>release_year</th>\n",
       "      <th></th>\n",
       "      <th></th>\n",
       "      <th></th>\n",
       "    </tr>\n",
       "  </thead>\n",
       "  <tbody>\n",
       "    <tr>\n",
       "      <th>1960</th>\n",
       "      <td>0.890063</td>\n",
       "      <td>NaN</td>\n",
       "      <td>NaN</td>\n",
       "    </tr>\n",
       "    <tr>\n",
       "      <th>1961</th>\n",
       "      <td>0.650838</td>\n",
       "      <td>NaN</td>\n",
       "      <td>NaN</td>\n",
       "    </tr>\n",
       "    <tr>\n",
       "      <th>1962</th>\n",
       "      <td>0.672336</td>\n",
       "      <td>NaN</td>\n",
       "      <td>NaN</td>\n",
       "    </tr>\n",
       "    <tr>\n",
       "      <th>1963</th>\n",
       "      <td>0.702942</td>\n",
       "      <td>0.804533</td>\n",
       "      <td>NaN</td>\n",
       "    </tr>\n",
       "    <tr>\n",
       "      <th>1964</th>\n",
       "      <td>0.921256</td>\n",
       "      <td>NaN</td>\n",
       "      <td>NaN</td>\n",
       "    </tr>\n",
       "  </tbody>\n",
       "</table>\n",
       "</div>"
      ],
      "text/plain": [
       "Budget Intervals       Low  Moderate  High\n",
       "release_year                              \n",
       "1960              0.890063       NaN   NaN\n",
       "1961              0.650838       NaN   NaN\n",
       "1962              0.672336       NaN   NaN\n",
       "1963              0.702942  0.804533   NaN\n",
       "1964              0.921256       NaN   NaN"
      ]
     },
     "execution_count": 520,
     "metadata": {},
     "output_type": "execute_result"
    }
   ],
   "source": [
    "df_clean.groupby(['Budget Intervals','release_year'])['popularity'].mean().unstack('Budget Intervals').head()"
   ]
  },
  {
   "cell_type": "code",
   "execution_count": 521,
   "metadata": {},
   "outputs": [
    {
     "data": {
      "image/png": "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",
      "text/plain": [
       "<Figure size 1008x576 with 1 Axes>"
      ]
     },
     "metadata": {},
     "output_type": "display_data"
    }
   ],
   "source": [
    "#plot\n",
    "# 1. Years on the x axis ( as they are the rows)\n",
    "# 2. Budget intervals are te hue variable (as they are the columns)\n",
    "df_clean.groupby(['Budget Intervals','release_year'])['popularity'].mean().unstack('Budget Intervals').plot(figsize=[14,8]);"
   ]
  },
  {
   "cell_type": "code",
   "execution_count": 522,
   "metadata": {},
   "outputs": [
    {
     "data": {
      "text/plain": [
       "count    5170.000000\n",
       "mean        0.992323\n",
       "std         1.329145\n",
       "min         0.001117\n",
       "25%         0.348024\n",
       "50%         0.623921\n",
       "75%         1.152401\n",
       "max        32.985763\n",
       "Name: popularity, dtype: float64"
      ]
     },
     "execution_count": 522,
     "metadata": {},
     "output_type": "execute_result"
    }
   ],
   "source": [
    "# see the budget breakdown\n",
    "df_clean['popularity'].describe()"
   ]
  },
  {
   "cell_type": "code",
   "execution_count": 523,
   "metadata": {},
   "outputs": [
    {
     "data": {
      "text/plain": [
       "min     0.001117\n",
       "50%     0.623921\n",
       "75%     1.152401\n",
       "max    32.985763\n",
       "Name: popularity, dtype: float64"
      ]
     },
     "execution_count": 523,
     "metadata": {},
     "output_type": "execute_result"
    }
   ],
   "source": [
    "# use .loc[] to select the rows I want\n",
    "df_clean['popularity'].describe().loc[['min','50%','75%','max']]"
   ]
  },
  {
   "cell_type": "code",
   "execution_count": 524,
   "metadata": {},
   "outputs": [
    {
     "name": "stdout",
     "output_type": "stream",
     "text": [
      "popularity intervals are [1.11700000e-03 6.23921000e-01 1.15240125e+00 3.29857630e+01] \n",
      "Labels are ['Low', 'Moderate', 'High']\n"
     ]
    }
   ],
   "source": [
    "# List of Intervals\n",
    "popularity_intervals = df_clean['popularity'].describe().loc[['min','50%','75%','max']].values\n",
    "# List of labels\n",
    "popularity_labels = ['Low','Moderate','High']\n",
    "print('popularity intervals are', popularity_intervals, '\\nLabels are', popularity_labels)"
   ]
  },
  {
   "cell_type": "code",
   "execution_count": 525,
   "metadata": {},
   "outputs": [
    {
     "data": {
      "text/plain": [
       "Low         2585\n",
       "Moderate    1292\n",
       "High        1293\n",
       "Name: Popularity Intervals, dtype: int64"
      ]
     },
     "execution_count": 525,
     "metadata": {},
     "output_type": "execute_result"
    }
   ],
   "source": [
    "# create new variable using pd.cut()\n",
    "df_clean['Popularity Intervals']=pd.cut(df_clean['popularity'],\n",
    "                                   bins=popularity_intervals,\n",
    "                                   labels=popularity_labels,\n",
    "                                   include_lowest=True)\n",
    "# Check\n",
    "df_clean['Popularity Intervals'].value_counts().sort_index()"
   ]
  },
  {
   "cell_type": "code",
   "execution_count": 526,
   "metadata": {},
   "outputs": [
    {
     "data": {
      "text/html": [
       "<div>\n",
       "<style scoped>\n",
       "    .dataframe tbody tr th:only-of-type {\n",
       "        vertical-align: middle;\n",
       "    }\n",
       "\n",
       "    .dataframe tbody tr th {\n",
       "        vertical-align: top;\n",
       "    }\n",
       "\n",
       "    .dataframe thead th {\n",
       "        text-align: right;\n",
       "    }\n",
       "</style>\n",
       "<table border=\"1\" class=\"dataframe\">\n",
       "  <thead>\n",
       "    <tr style=\"text-align: right;\">\n",
       "      <th></th>\n",
       "      <th>Popularity Intervals</th>\n",
       "      <th>popularity</th>\n",
       "    </tr>\n",
       "  </thead>\n",
       "  <tbody>\n",
       "    <tr>\n",
       "      <th>0</th>\n",
       "      <td>High</td>\n",
       "      <td>32.985763</td>\n",
       "    </tr>\n",
       "    <tr>\n",
       "      <th>1</th>\n",
       "      <td>High</td>\n",
       "      <td>28.419936</td>\n",
       "    </tr>\n",
       "    <tr>\n",
       "      <th>2</th>\n",
       "      <td>High</td>\n",
       "      <td>13.112507</td>\n",
       "    </tr>\n",
       "    <tr>\n",
       "      <th>3</th>\n",
       "      <td>High</td>\n",
       "      <td>11.173104</td>\n",
       "    </tr>\n",
       "    <tr>\n",
       "      <th>4</th>\n",
       "      <td>High</td>\n",
       "      <td>9.335014</td>\n",
       "    </tr>\n",
       "    <tr>\n",
       "      <th>...</th>\n",
       "      <td>...</td>\n",
       "      <td>...</td>\n",
       "    </tr>\n",
       "    <tr>\n",
       "      <th>10835</th>\n",
       "      <td>Low</td>\n",
       "      <td>0.299911</td>\n",
       "    </tr>\n",
       "    <tr>\n",
       "      <th>10841</th>\n",
       "      <td>Low</td>\n",
       "      <td>0.264925</td>\n",
       "    </tr>\n",
       "    <tr>\n",
       "      <th>10848</th>\n",
       "      <td>Low</td>\n",
       "      <td>0.207257</td>\n",
       "    </tr>\n",
       "    <tr>\n",
       "      <th>10855</th>\n",
       "      <td>Low</td>\n",
       "      <td>0.141026</td>\n",
       "    </tr>\n",
       "    <tr>\n",
       "      <th>10865</th>\n",
       "      <td>Low</td>\n",
       "      <td>0.035919</td>\n",
       "    </tr>\n",
       "  </tbody>\n",
       "</table>\n",
       "<p>5170 rows × 2 columns</p>\n",
       "</div>"
      ],
      "text/plain": [
       "      Popularity Intervals  popularity\n",
       "0                     High   32.985763\n",
       "1                     High   28.419936\n",
       "2                     High   13.112507\n",
       "3                     High   11.173104\n",
       "4                     High    9.335014\n",
       "...                    ...         ...\n",
       "10835                  Low    0.299911\n",
       "10841                  Low    0.264925\n",
       "10848                  Low    0.207257\n",
       "10855                  Low    0.141026\n",
       "10865                  Low    0.035919\n",
       "\n",
       "[5170 rows x 2 columns]"
      ]
     },
     "execution_count": 526,
     "metadata": {},
     "output_type": "execute_result"
    }
   ],
   "source": [
    "df_clean[['Popularity Intervals','popularity']]"
   ]
  },
  {
   "cell_type": "markdown",
   "metadata": {},
   "source": [
    "<a id='Visualise Revenue against Popularity'></a>\n",
    "# Visualise Revenue against Popularity"
   ]
  },
  {
   "cell_type": "code",
   "execution_count": 527,
   "metadata": {},
   "outputs": [
    {
     "data": {
      "image/png": "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",
      "text/plain": [
       "<Figure size 1008x576 with 1 Axes>"
      ]
     },
     "metadata": {},
     "output_type": "display_data"
    }
   ],
   "source": [
    "df_clean.groupby(['Popularity Intervals'])['revenue'].mean().plot.bar(figsize=[14,8]);"
   ]
  },
  {
   "cell_type": "code",
   "execution_count": 528,
   "metadata": {},
   "outputs": [
    {
     "data": {
      "image/png": "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",
      "text/plain": [
       "<Figure size 1008x576 with 1 Axes>"
      ]
     },
     "metadata": {},
     "output_type": "display_data"
    }
   ],
   "source": [
    "df_clean.groupby(['Popularity Intervals','release_year'])['revenue'].mean().unstack('Popularity Intervals').plot(figsize=[14,8]);"
   ]
  },
  {
   "cell_type": "markdown",
   "metadata": {},
   "source": [
    "<a id='conclusions'></a>\n",
    "# Conclusions\n",
    "\n"
   ]
  },
  {
   "cell_type": "markdown",
   "metadata": {
    "collapsed": true,
    "jupyter": {
     "outputs_hidden": true
    }
   },
   "source": [
    "In the first question, I examined how many movies are created each year and it can be seen comparing the 1960s to the 2000's onwards, there is a huge increase in movie production. For example in the 1960's less than an average of 50 movies per year, but in the 2000's the average has increased to almost 700 movies per year, which shows the huge growth in the movie industry and popularity of movies as a whole.\n",
    "\n",
    "In question 2, I examined trends over the decades.\n",
    "\n",
    "Questions are asked were for each decade were:\n",
    "\n",
    "1. What was the most popular keyword associated with movies?\n",
    "\n",
    "\n",
    "| **keywords**| **year**| **top**\n",
    "|-|-|-|\n",
    "|based on novel|\t1960s|\t16\n",
    "|based on novel\t|1970s|\t23\n",
    "|nudity\t|1980s\t|39\n",
    "|independent film|\t1990s|\t80\n",
    "|woman director|\tafter2000|\t350\n",
    "\n",
    "\n",
    "2. Who were the most popular actors/actresses?\n",
    "\n",
    "| **Cast**|\t**year**|**top**\n",
    "|-|-|-|\n",
    "|John Wayne\t|1960s\t|13\n",
    "|Clint Eastwood\t|1970s|\t15\n",
    "|Dan Aykroyd\t|1980s|\t13\n",
    "|Bruce Willis\t|1990s\t|25\n",
    "|Samuel L. Jackson|\tafter2000\t|49\n",
    "\n",
    "3. Who were the most popular directors?\n",
    "\n",
    "|**Directors** |**year**|**top**\n",
    "|-|-|-|\n",
    "|Roger Corman\t|1960s|\t11\n",
    "|Woody Allen\t|1970s|\t7\n",
    "|Woody Allen\t|1980s|\t11\n",
    "|Woody Allen\t|1990s|\t10\n",
    "|Steven Soderbergh|\tafter2000|\t19\n",
    "\n",
    "4. Who were the most popular production companies?\n",
    "\n",
    "\n",
    "|**Production Companies**|**year**|**top**\n",
    "|-|-|-|\n",
    "|Metro-Goldwyn-Mayer (MGM)|1960s|\t31\n",
    "|Universal Pictures|1970s|\t45\n",
    "|Paramount Pictures\t|1980s|\t86\n",
    "|Warner Bros.\t|1990s\t|153\n",
    "|Universal Pictures\t|after2000|\t234\n",
    "\n",
    "In Question 3, I asked examined was movie popularity, related to budget.\n",
    "From the graphs it can be seen that this is a direct link between popularity and budgets.\n",
    "High budgets, have high popularity and also high revenue.\n",
    "\n",
    "Examining budget and revenue, over the decades, it can be seen that since 2010, there has been a huge spike in movie budgets and revenue made from  movies. Since that time Warner Bros and Universal are associate with the most popular movies.\n",
    "\n",
    "It's no suprise, that big actors, budgets and production companies have huge budgets, which need to make large revenue to make profits.\n",
    "\n",
    "That is today's movie industry."
   ]
  }
 ],
 "metadata": {
  "interpreter": {
   "hash": "eb60307890f356fa52bb9e8a52fc59ec96119349e6ac89606cf51deb606c78ac"
  },
  "kernelspec": {
<<<<<<< HEAD
   "display_name": "Python 3 (ipykernel)",
   "language": "python",
=======
   "display_name": "Python 3.7.11 64-bit ('darragh': conda)",
>>>>>>> 96a4076f376282626b6ff38b6be0a7b8caffabe0
   "name": "python3"
  },
  "language_info": {
   "codemirror_mode": {
    "name": "ipython",
    "version": 3
   },
   "file_extension": ".py",
   "mimetype": "text/x-python",
   "name": "python",
   "nbconvert_exporter": "python",
   "pygments_lexer": "ipython3",
   "version": "3.7.11"
  }
 },
 "nbformat": 4,
 "nbformat_minor": 4
}
